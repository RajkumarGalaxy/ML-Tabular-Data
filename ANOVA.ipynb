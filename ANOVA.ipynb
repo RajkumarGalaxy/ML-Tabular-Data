{
  "nbformat": 4,
  "nbformat_minor": 0,
  "metadata": {
    "colab": {
      "name": "ANOVA.ipynb",
      "provenance": [],
      "collapsed_sections": [],
      "authorship_tag": "ABX9TyMVeY35ZcoXY1JX4CNxWe0q",
      "include_colab_link": true
    },
    "kernelspec": {
      "name": "python3",
      "display_name": "Python 3"
    },
    "language_info": {
      "name": "python"
    }
  },
  "cells": [
    {
      "cell_type": "markdown",
      "metadata": {
        "id": "view-in-github",
        "colab_type": "text"
      },
      "source": [
        "<a href=\"https://colab.research.google.com/github/RajkumarGalaxy/StructuredData/blob/master/ANOVA.ipynb\" target=\"_parent\"><img src=\"https://colab.research.google.com/assets/colab-badge.svg\" alt=\"Open In Colab\"/></a>"
      ]
    },
    {
      "cell_type": "markdown",
      "metadata": {
        "id": "CrYXYZ5GuxW8"
      },
      "source": [
        "# ANOVA using Python"
      ]
    },
    {
      "cell_type": "code",
      "metadata": {
        "id": "rMSEuGkfrKUt"
      },
      "source": [
        "# import libraries\n",
        "import numpy as np\n",
        "import pandas as pd\n",
        "import scipy\n",
        "import statsmodels.api as sm\n",
        "from statsmodels.formula.api import ols\n",
        "from matplotlib import pyplot as plt\n",
        "import seaborn as sns\n",
        "\n",
        "np.random.seed(1)"
      ],
      "execution_count": 30,
      "outputs": []
    },
    {
      "cell_type": "code",
      "metadata": {
        "colab": {
          "base_uri": "https://localhost:8080/",
          "height": 204
        },
        "id": "M9iWrL0vvUPY",
        "outputId": "6b3fe348-d0f4-40d7-abf7-e6f690c6728c"
      },
      "source": [
        "method_1 = np.random.normal(10,3,10)\n",
        "method_2 = np.random.normal(11,3,10)\n",
        "method_3 = np.random.normal(12,3,10)\n",
        "method_4 = np.random.normal(13,3,10)\n",
        "\n",
        "data = pd.DataFrame({'method_1':method_1, \n",
        "                     'method_2':method_2, \n",
        "                     'method_3':method_3,\n",
        "                     'method_4':method_4})\n",
        "data.head()"
      ],
      "execution_count": 31,
      "outputs": [
        {
          "output_type": "execute_result",
          "data": {
            "text/html": [
              "<div>\n",
              "<style scoped>\n",
              "    .dataframe tbody tr th:only-of-type {\n",
              "        vertical-align: middle;\n",
              "    }\n",
              "\n",
              "    .dataframe tbody tr th {\n",
              "        vertical-align: top;\n",
              "    }\n",
              "\n",
              "    .dataframe thead th {\n",
              "        text-align: right;\n",
              "    }\n",
              "</style>\n",
              "<table border=\"1\" class=\"dataframe\">\n",
              "  <thead>\n",
              "    <tr style=\"text-align: right;\">\n",
              "      <th></th>\n",
              "      <th>method_1</th>\n",
              "      <th>method_2</th>\n",
              "      <th>method_3</th>\n",
              "      <th>method_4</th>\n",
              "    </tr>\n",
              "  </thead>\n",
              "  <tbody>\n",
              "    <tr>\n",
              "      <th>0</th>\n",
              "      <td>14.873036</td>\n",
              "      <td>15.386324</td>\n",
              "      <td>8.698142</td>\n",
              "      <td>10.925018</td>\n",
              "    </tr>\n",
              "    <tr>\n",
              "      <th>1</th>\n",
              "      <td>8.164731</td>\n",
              "      <td>4.819578</td>\n",
              "      <td>15.434171</td>\n",
              "      <td>11.809739</td>\n",
              "    </tr>\n",
              "    <tr>\n",
              "      <th>2</th>\n",
              "      <td>8.415485</td>\n",
              "      <td>10.032748</td>\n",
              "      <td>14.704772</td>\n",
              "      <td>10.938482</td>\n",
              "    </tr>\n",
              "    <tr>\n",
              "      <th>3</th>\n",
              "      <td>6.781094</td>\n",
              "      <td>9.847837</td>\n",
              "      <td>13.507483</td>\n",
              "      <td>10.464383</td>\n",
              "    </tr>\n",
              "    <tr>\n",
              "      <th>4</th>\n",
              "      <td>12.596223</td>\n",
              "      <td>14.401308</td>\n",
              "      <td>14.702568</td>\n",
              "      <td>10.986262</td>\n",
              "    </tr>\n",
              "  </tbody>\n",
              "</table>\n",
              "</div>"
            ],
            "text/plain": [
              "    method_1   method_2   method_3   method_4\n",
              "0  14.873036  15.386324   8.698142  10.925018\n",
              "1   8.164731   4.819578  15.434171  11.809739\n",
              "2   8.415485  10.032748  14.704772  10.938482\n",
              "3   6.781094   9.847837  13.507483  10.464383\n",
              "4  12.596223  14.401308  14.702568  10.986262"
            ]
          },
          "metadata": {
            "tags": []
          },
          "execution_count": 31
        }
      ]
    },
    {
      "cell_type": "code",
      "metadata": {
        "colab": {
          "base_uri": "https://localhost:8080/",
          "height": 359
        },
        "id": "kbi8wRqC0QYJ",
        "outputId": "af35a031-9912-49c4-b32c-c71daaa23a15"
      },
      "source": [
        "df = pd.melt(data,  \n",
        "             value_vars=['method_1', 'method_2', 'method_3', 'method_4'])\n",
        "\n",
        "df.columns = [ 'treatment', 'value']\n",
        "df.sample(10)"
      ],
      "execution_count": 32,
      "outputs": [
        {
          "output_type": "execute_result",
          "data": {
            "text/html": [
              "<div>\n",
              "<style scoped>\n",
              "    .dataframe tbody tr th:only-of-type {\n",
              "        vertical-align: middle;\n",
              "    }\n",
              "\n",
              "    .dataframe tbody tr th {\n",
              "        vertical-align: top;\n",
              "    }\n",
              "\n",
              "    .dataframe thead th {\n",
              "        text-align: right;\n",
              "    }\n",
              "</style>\n",
              "<table border=\"1\" class=\"dataframe\">\n",
              "  <thead>\n",
              "    <tr style=\"text-align: right;\">\n",
              "      <th></th>\n",
              "      <th>treatment</th>\n",
              "      <th>value</th>\n",
              "    </tr>\n",
              "  </thead>\n",
              "  <tbody>\n",
              "    <tr>\n",
              "      <th>29</th>\n",
              "      <td>method_3</td>\n",
              "      <td>13.591066</td>\n",
              "    </tr>\n",
              "    <tr>\n",
              "      <th>14</th>\n",
              "      <td>method_2</td>\n",
              "      <td>14.401308</td>\n",
              "    </tr>\n",
              "    <tr>\n",
              "      <th>35</th>\n",
              "      <td>method_4</td>\n",
              "      <td>12.962006</td>\n",
              "    </tr>\n",
              "    <tr>\n",
              "      <th>5</th>\n",
              "      <td>method_1</td>\n",
              "      <td>3.095384</td>\n",
              "    </tr>\n",
              "    <tr>\n",
              "      <th>19</th>\n",
              "      <td>method_2</td>\n",
              "      <td>12.748446</td>\n",
              "    </tr>\n",
              "    <tr>\n",
              "      <th>10</th>\n",
              "      <td>method_2</td>\n",
              "      <td>15.386324</td>\n",
              "    </tr>\n",
              "    <tr>\n",
              "      <th>22</th>\n",
              "      <td>method_3</td>\n",
              "      <td>14.704772</td>\n",
              "    </tr>\n",
              "    <tr>\n",
              "      <th>15</th>\n",
              "      <td>method_2</td>\n",
              "      <td>7.700326</td>\n",
              "    </tr>\n",
              "    <tr>\n",
              "      <th>37</th>\n",
              "      <td>method_4</td>\n",
              "      <td>13.703247</td>\n",
              "    </tr>\n",
              "    <tr>\n",
              "      <th>16</th>\n",
              "      <td>method_2</td>\n",
              "      <td>10.482715</td>\n",
              "    </tr>\n",
              "  </tbody>\n",
              "</table>\n",
              "</div>"
            ],
            "text/plain": [
              "   treatment      value\n",
              "29  method_3  13.591066\n",
              "14  method_2  14.401308\n",
              "35  method_4  12.962006\n",
              "5   method_1   3.095384\n",
              "19  method_2  12.748446\n",
              "10  method_2  15.386324\n",
              "22  method_3  14.704772\n",
              "15  method_2   7.700326\n",
              "37  method_4  13.703247\n",
              "16  method_2  10.482715"
            ]
          },
          "metadata": {
            "tags": []
          },
          "execution_count": 32
        }
      ]
    },
    {
      "cell_type": "code",
      "metadata": {
        "colab": {
          "base_uri": "https://localhost:8080/",
          "height": 486
        },
        "id": "MEoxl2AC1sVr",
        "outputId": "71168a45-49f6-477b-a295-144b3487ddce"
      },
      "source": [
        "model = ols('value~C(treatment)', data=df).fit()\n",
        "model.summary()"
      ],
      "execution_count": 33,
      "outputs": [
        {
          "output_type": "execute_result",
          "data": {
            "text/html": [
              "<table class=\"simpletable\">\n",
              "<caption>OLS Regression Results</caption>\n",
              "<tr>\n",
              "  <th>Dep. Variable:</th>          <td>value</td>      <th>  R-squared:         </th> <td>   0.141</td>\n",
              "</tr>\n",
              "<tr>\n",
              "  <th>Model:</th>                   <td>OLS</td>       <th>  Adj. R-squared:    </th> <td>   0.070</td>\n",
              "</tr>\n",
              "<tr>\n",
              "  <th>Method:</th>             <td>Least Squares</td>  <th>  F-statistic:       </th> <td>   1.975</td>\n",
              "</tr>\n",
              "<tr>\n",
              "  <th>Date:</th>             <td>Mon, 19 Apr 2021</td> <th>  Prob (F-statistic):</th>  <td> 0.135</td> \n",
              "</tr>\n",
              "<tr>\n",
              "  <th>Time:</th>                 <td>15:06:49</td>     <th>  Log-Likelihood:    </th> <td> -99.014</td>\n",
              "</tr>\n",
              "<tr>\n",
              "  <th>No. Observations:</th>      <td>    40</td>      <th>  AIC:               </th> <td>   206.0</td>\n",
              "</tr>\n",
              "<tr>\n",
              "  <th>Df Residuals:</th>          <td>    36</td>      <th>  BIC:               </th> <td>   212.8</td>\n",
              "</tr>\n",
              "<tr>\n",
              "  <th>Df Model:</th>              <td>     3</td>      <th>                     </th>     <td> </td>   \n",
              "</tr>\n",
              "<tr>\n",
              "  <th>Covariance Type:</th>      <td>nonrobust</td>    <th>                     </th>     <td> </td>   \n",
              "</tr>\n",
              "</table>\n",
              "<table class=\"simpletable\">\n",
              "<tr>\n",
              "              <td></td>                <th>coef</th>     <th>std err</th>      <th>t</th>      <th>P>|t|</th>  <th>[0.025</th>    <th>0.975]</th>  \n",
              "</tr>\n",
              "<tr>\n",
              "  <th>Intercept</th>                <td>    9.7086</td> <td>    0.959</td> <td>   10.127</td> <td> 0.000</td> <td>    7.764</td> <td>   11.653</td>\n",
              "</tr>\n",
              "<tr>\n",
              "  <th>C(treatment)[T.method_2]</th> <td>    0.7827</td> <td>    1.356</td> <td>    0.577</td> <td> 0.567</td> <td>   -1.967</td> <td>    3.532</td>\n",
              "</tr>\n",
              "<tr>\n",
              "  <th>C(treatment)[T.method_3]</th> <td>    2.5522</td> <td>    1.356</td> <td>    1.882</td> <td> 0.068</td> <td>   -0.197</td> <td>    5.302</td>\n",
              "</tr>\n",
              "<tr>\n",
              "  <th>C(treatment)[T.method_4]</th> <td>    2.7557</td> <td>    1.356</td> <td>    2.033</td> <td> 0.050</td> <td>    0.006</td> <td>    5.505</td>\n",
              "</tr>\n",
              "</table>\n",
              "<table class=\"simpletable\">\n",
              "<tr>\n",
              "  <th>Omnibus:</th>       <td> 0.137</td> <th>  Durbin-Watson:     </th> <td>   2.527</td>\n",
              "</tr>\n",
              "<tr>\n",
              "  <th>Prob(Omnibus):</th> <td> 0.934</td> <th>  Jarque-Bera (JB):  </th> <td>   0.304</td>\n",
              "</tr>\n",
              "<tr>\n",
              "  <th>Skew:</th>          <td> 0.112</td> <th>  Prob(JB):          </th> <td>   0.859</td>\n",
              "</tr>\n",
              "<tr>\n",
              "  <th>Kurtosis:</th>      <td> 2.636</td> <th>  Cond. No.          </th> <td>    4.79</td>\n",
              "</tr>\n",
              "</table><br/><br/>Warnings:<br/>[1] Standard Errors assume that the covariance matrix of the errors is correctly specified."
            ],
            "text/plain": [
              "<class 'statsmodels.iolib.summary.Summary'>\n",
              "\"\"\"\n",
              "                            OLS Regression Results                            \n",
              "==============================================================================\n",
              "Dep. Variable:                  value   R-squared:                       0.141\n",
              "Model:                            OLS   Adj. R-squared:                  0.070\n",
              "Method:                 Least Squares   F-statistic:                     1.975\n",
              "Date:                Mon, 19 Apr 2021   Prob (F-statistic):              0.135\n",
              "Time:                        15:06:49   Log-Likelihood:                -99.014\n",
              "No. Observations:                  40   AIC:                             206.0\n",
              "Df Residuals:                      36   BIC:                             212.8\n",
              "Df Model:                           3                                         \n",
              "Covariance Type:            nonrobust                                         \n",
              "============================================================================================\n",
              "                               coef    std err          t      P>|t|      [0.025      0.975]\n",
              "--------------------------------------------------------------------------------------------\n",
              "Intercept                    9.7086      0.959     10.127      0.000       7.764      11.653\n",
              "C(treatment)[T.method_2]     0.7827      1.356      0.577      0.567      -1.967       3.532\n",
              "C(treatment)[T.method_3]     2.5522      1.356      1.882      0.068      -0.197       5.302\n",
              "C(treatment)[T.method_4]     2.7557      1.356      2.033      0.050       0.006       5.505\n",
              "==============================================================================\n",
              "Omnibus:                        0.137   Durbin-Watson:                   2.527\n",
              "Prob(Omnibus):                  0.934   Jarque-Bera (JB):                0.304\n",
              "Skew:                           0.112   Prob(JB):                        0.859\n",
              "Kurtosis:                       2.636   Cond. No.                         4.79\n",
              "==============================================================================\n",
              "\n",
              "Warnings:\n",
              "[1] Standard Errors assume that the covariance matrix of the errors is correctly specified.\n",
              "\"\"\""
            ]
          },
          "metadata": {
            "tags": []
          },
          "execution_count": 33
        }
      ]
    },
    {
      "cell_type": "code",
      "metadata": {
        "colab": {
          "base_uri": "https://localhost:8080/",
          "height": 111
        },
        "id": "s0JdC2MV5Sz7",
        "outputId": "f53e6149-8283-47b7-857c-896f93128cdd"
      },
      "source": [
        "anova = sm.stats.anova_lm(model, typ=1)\n",
        "anova"
      ],
      "execution_count": 34,
      "outputs": [
        {
          "output_type": "execute_result",
          "data": {
            "text/html": [
              "<div>\n",
              "<style scoped>\n",
              "    .dataframe tbody tr th:only-of-type {\n",
              "        vertical-align: middle;\n",
              "    }\n",
              "\n",
              "    .dataframe tbody tr th {\n",
              "        vertical-align: top;\n",
              "    }\n",
              "\n",
              "    .dataframe thead th {\n",
              "        text-align: right;\n",
              "    }\n",
              "</style>\n",
              "<table border=\"1\" class=\"dataframe\">\n",
              "  <thead>\n",
              "    <tr style=\"text-align: right;\">\n",
              "      <th></th>\n",
              "      <th>df</th>\n",
              "      <th>sum_sq</th>\n",
              "      <th>mean_sq</th>\n",
              "      <th>F</th>\n",
              "      <th>PR(&gt;F)</th>\n",
              "    </tr>\n",
              "  </thead>\n",
              "  <tbody>\n",
              "    <tr>\n",
              "      <th>C(treatment)</th>\n",
              "      <td>3.0</td>\n",
              "      <td>54.463487</td>\n",
              "      <td>18.154496</td>\n",
              "      <td>1.975314</td>\n",
              "      <td>0.135079</td>\n",
              "    </tr>\n",
              "    <tr>\n",
              "      <th>Residual</th>\n",
              "      <td>36.0</td>\n",
              "      <td>330.864727</td>\n",
              "      <td>9.190687</td>\n",
              "      <td>NaN</td>\n",
              "      <td>NaN</td>\n",
              "    </tr>\n",
              "  </tbody>\n",
              "</table>\n",
              "</div>"
            ],
            "text/plain": [
              "                df      sum_sq    mean_sq         F    PR(>F)\n",
              "C(treatment)   3.0   54.463487  18.154496  1.975314  0.135079\n",
              "Residual      36.0  330.864727   9.190687       NaN       NaN"
            ]
          },
          "metadata": {
            "tags": []
          },
          "execution_count": 34
        }
      ]
    },
    {
      "cell_type": "code",
      "metadata": {
        "colab": {
          "base_uri": "https://localhost:8080/"
        },
        "id": "AkjvA4cA6ug6",
        "outputId": "0f3556f1-386b-415f-a861-115433713c0e"
      },
      "source": [
        "scipy.stats.f(3,36).ppf(0.95)"
      ],
      "execution_count": 35,
      "outputs": [
        {
          "output_type": "execute_result",
          "data": {
            "text/plain": [
              "2.86626555094018"
            ]
          },
          "metadata": {
            "tags": []
          },
          "execution_count": 35
        }
      ]
    },
    {
      "cell_type": "code",
      "metadata": {
        "colab": {
          "base_uri": "https://localhost:8080/",
          "height": 279
        },
        "id": "5uKfOLLT-BGA",
        "outputId": "913f5c1d-7da4-4dff-e270-32c3a2dd6ff8"
      },
      "source": [
        "sns.set_style('darkgrid')\n",
        "data.plot()\n",
        "plt.xlabel('Data points')\n",
        "plt.ylabel('Data value')\n",
        "plt.show()"
      ],
      "execution_count": 36,
      "outputs": [
        {
          "output_type": "display_data",
          "data": {
            "image/png": "[encoded data removed]",
            "text/plain": [
              "<Figure size 432x288 with 1 Axes>"
            ]
          },
          "metadata": {
            "tags": []
          }
        }
      ]
    },
    {
      "cell_type": "code",
      "metadata": {
        "colab": {
          "base_uri": "https://localhost:8080/",
          "height": 319
        },
        "id": "8DwAdsiV-qhM",
        "outputId": "428e3dac-d3c4-4f28-da3b-3c8d4ed6e25d"
      },
      "source": [
        "data.mean(axis=0).plot(kind='bar')\n",
        "plt.xlabel('Methods / Groups')\n",
        "plt.ylabel('Mean value')\n",
        "plt.show()"
      ],
      "execution_count": 39,
      "outputs": [
        {
          "output_type": "display_data",
          "data": {
            "image/png": "[encoded data removed]",
            "text/plain": [
              "<Figure size 432x288 with 1 Axes>"
            ]
          },
          "metadata": {
            "tags": []
          }
        }
      ]
    },
    {
      "cell_type": "markdown",
      "metadata": {
        "id": "-LJikR3U74u7"
      },
      "source": [
        "# Limitation of ANOVA"
      ]
    },
    {
      "cell_type": "code",
      "metadata": {
        "colab": {
          "base_uri": "https://localhost:8080/",
          "height": 204
        },
        "id": "8zX4apvB73XL",
        "outputId": "8d521083-36a8-4e4a-dabe-23eee3352748"
      },
      "source": [
        "# Alter the mean value of method_4\n",
        "method_1 = np.random.normal(10,3,10)\n",
        "method_2 = np.random.normal(11,3,10)\n",
        "method_3 = np.random.normal(12,3,10)\n",
        "method_4 = np.random.normal(15,3,10)\n",
        "\n",
        "data = pd.DataFrame({'method_1':method_1, \n",
        "                     'method_2':method_2, \n",
        "                     'method_3':method_3,\n",
        "                     'method_4':method_4})\n",
        "data.head()"
      ],
      "execution_count": 99,
      "outputs": [
        {
          "output_type": "execute_result",
          "data": {
            "text/html": [
              "<div>\n",
              "<style scoped>\n",
              "    .dataframe tbody tr th:only-of-type {\n",
              "        vertical-align: middle;\n",
              "    }\n",
              "\n",
              "    .dataframe tbody tr th {\n",
              "        vertical-align: top;\n",
              "    }\n",
              "\n",
              "    .dataframe thead th {\n",
              "        text-align: right;\n",
              "    }\n",
              "</style>\n",
              "<table border=\"1\" class=\"dataframe\">\n",
              "  <thead>\n",
              "    <tr style=\"text-align: right;\">\n",
              "      <th></th>\n",
              "      <th>method_1</th>\n",
              "      <th>method_2</th>\n",
              "      <th>method_3</th>\n",
              "      <th>method_4</th>\n",
              "    </tr>\n",
              "  </thead>\n",
              "  <tbody>\n",
              "    <tr>\n",
              "      <th>0</th>\n",
              "      <td>4.785227</td>\n",
              "      <td>10.940308</td>\n",
              "      <td>12.627448</td>\n",
              "      <td>20.751956</td>\n",
              "    </tr>\n",
              "    <tr>\n",
              "      <th>1</th>\n",
              "      <td>8.291335</td>\n",
              "      <td>9.442751</td>\n",
              "      <td>8.315298</td>\n",
              "      <td>16.827573</td>\n",
              "    </tr>\n",
              "    <tr>\n",
              "      <th>2</th>\n",
              "      <td>14.736101</td>\n",
              "      <td>19.119110</td>\n",
              "      <td>11.035258</td>\n",
              "      <td>14.239155</td>\n",
              "    </tr>\n",
              "    <tr>\n",
              "      <th>3</th>\n",
              "      <td>10.755414</td>\n",
              "      <td>15.702209</td>\n",
              "      <td>12.823587</td>\n",
              "      <td>14.997808</td>\n",
              "    </tr>\n",
              "    <tr>\n",
              "      <th>4</th>\n",
              "      <td>10.493163</td>\n",
              "      <td>12.282129</td>\n",
              "      <td>11.497821</td>\n",
              "      <td>15.221823</td>\n",
              "    </tr>\n",
              "  </tbody>\n",
              "</table>\n",
              "</div>"
            ],
            "text/plain": [
              "    method_1   method_2   method_3   method_4\n",
              "0   4.785227  10.940308  12.627448  20.751956\n",
              "1   8.291335   9.442751   8.315298  16.827573\n",
              "2  14.736101  19.119110  11.035258  14.239155\n",
              "3  10.755414  15.702209  12.823587  14.997808\n",
              "4  10.493163  12.282129  11.497821  15.221823"
            ]
          },
          "metadata": {
            "tags": []
          },
          "execution_count": 99
        }
      ]
    },
    {
      "cell_type": "code",
      "metadata": {
        "colab": {
          "base_uri": "https://localhost:8080/",
          "height": 359
        },
        "id": "Iw5_Vw2a8D7C",
        "outputId": "df61266d-6486-423d-8364-e17320ba86c5"
      },
      "source": [
        "df = pd.melt(data,  \n",
        "             value_vars=['method_1', 'method_2', 'method_3', 'method_4'])\n",
        "\n",
        "df.columns = [ 'treatment', 'value']\n",
        "df.sample(10)"
      ],
      "execution_count": 100,
      "outputs": [
        {
          "output_type": "execute_result",
          "data": {
            "text/html": [
              "<div>\n",
              "<style scoped>\n",
              "    .dataframe tbody tr th:only-of-type {\n",
              "        vertical-align: middle;\n",
              "    }\n",
              "\n",
              "    .dataframe tbody tr th {\n",
              "        vertical-align: top;\n",
              "    }\n",
              "\n",
              "    .dataframe thead th {\n",
              "        text-align: right;\n",
              "    }\n",
              "</style>\n",
              "<table border=\"1\" class=\"dataframe\">\n",
              "  <thead>\n",
              "    <tr style=\"text-align: right;\">\n",
              "      <th></th>\n",
              "      <th>treatment</th>\n",
              "      <th>value</th>\n",
              "    </tr>\n",
              "  </thead>\n",
              "  <tbody>\n",
              "    <tr>\n",
              "      <th>5</th>\n",
              "      <td>method_1</td>\n",
              "      <td>10.738447</td>\n",
              "    </tr>\n",
              "    <tr>\n",
              "      <th>17</th>\n",
              "      <td>method_2</td>\n",
              "      <td>9.611515</td>\n",
              "    </tr>\n",
              "    <tr>\n",
              "      <th>6</th>\n",
              "      <td>method_1</td>\n",
              "      <td>6.273591</td>\n",
              "    </tr>\n",
              "    <tr>\n",
              "      <th>22</th>\n",
              "      <td>method_3</td>\n",
              "      <td>11.035258</td>\n",
              "    </tr>\n",
              "    <tr>\n",
              "      <th>11</th>\n",
              "      <td>method_2</td>\n",
              "      <td>9.442751</td>\n",
              "    </tr>\n",
              "    <tr>\n",
              "      <th>12</th>\n",
              "      <td>method_2</td>\n",
              "      <td>19.119110</td>\n",
              "    </tr>\n",
              "    <tr>\n",
              "      <th>39</th>\n",
              "      <td>method_4</td>\n",
              "      <td>17.520717</td>\n",
              "    </tr>\n",
              "    <tr>\n",
              "      <th>0</th>\n",
              "      <td>method_1</td>\n",
              "      <td>4.785227</td>\n",
              "    </tr>\n",
              "    <tr>\n",
              "      <th>28</th>\n",
              "      <td>method_3</td>\n",
              "      <td>12.943391</td>\n",
              "    </tr>\n",
              "    <tr>\n",
              "      <th>1</th>\n",
              "      <td>method_1</td>\n",
              "      <td>8.291335</td>\n",
              "    </tr>\n",
              "  </tbody>\n",
              "</table>\n",
              "</div>"
            ],
            "text/plain": [
              "   treatment      value\n",
              "5   method_1  10.738447\n",
              "17  method_2   9.611515\n",
              "6   method_1   6.273591\n",
              "22  method_3  11.035258\n",
              "11  method_2   9.442751\n",
              "12  method_2  19.119110\n",
              "39  method_4  17.520717\n",
              "0   method_1   4.785227\n",
              "28  method_3  12.943391\n",
              "1   method_1   8.291335"
            ]
          },
          "metadata": {
            "tags": []
          },
          "execution_count": 100
        }
      ]
    },
    {
      "cell_type": "code",
      "metadata": {
        "colab": {
          "base_uri": "https://localhost:8080/",
          "height": 486
        },
        "id": "qRZ2blhp8I9D",
        "outputId": "13aedd00-096e-46fc-e9d9-2738c0daf592"
      },
      "source": [
        "model = ols('value~C(treatment)', data=df).fit()\n",
        "model.summary()"
      ],
      "execution_count": 101,
      "outputs": [
        {
          "output_type": "execute_result",
          "data": {
            "text/html": [
              "<table class=\"simpletable\">\n",
              "<caption>OLS Regression Results</caption>\n",
              "<tr>\n",
              "  <th>Dep. Variable:</th>          <td>value</td>      <th>  R-squared:         </th> <td>   0.435</td>\n",
              "</tr>\n",
              "<tr>\n",
              "  <th>Model:</th>                   <td>OLS</td>       <th>  Adj. R-squared:    </th> <td>   0.388</td>\n",
              "</tr>\n",
              "<tr>\n",
              "  <th>Method:</th>             <td>Least Squares</td>  <th>  F-statistic:       </th> <td>   9.257</td>\n",
              "</tr>\n",
              "<tr>\n",
              "  <th>Date:</th>             <td>Mon, 19 Apr 2021</td> <th>  Prob (F-statistic):</th> <td>0.000113</td>\n",
              "</tr>\n",
              "<tr>\n",
              "  <th>Time:</th>                 <td>16:31:29</td>     <th>  Log-Likelihood:    </th> <td> -99.728</td>\n",
              "</tr>\n",
              "<tr>\n",
              "  <th>No. Observations:</th>      <td>    40</td>      <th>  AIC:               </th> <td>   207.5</td>\n",
              "</tr>\n",
              "<tr>\n",
              "  <th>Df Residuals:</th>          <td>    36</td>      <th>  BIC:               </th> <td>   214.2</td>\n",
              "</tr>\n",
              "<tr>\n",
              "  <th>Df Model:</th>              <td>     3</td>      <th>                     </th>     <td> </td>   \n",
              "</tr>\n",
              "<tr>\n",
              "  <th>Covariance Type:</th>      <td>nonrobust</td>    <th>                     </th>     <td> </td>   \n",
              "</tr>\n",
              "</table>\n",
              "<table class=\"simpletable\">\n",
              "<tr>\n",
              "              <td></td>                <th>coef</th>     <th>std err</th>      <th>t</th>      <th>P>|t|</th>  <th>[0.025</th>    <th>0.975]</th>  \n",
              "</tr>\n",
              "<tr>\n",
              "  <th>Intercept</th>                <td>   10.0071</td> <td>    0.976</td> <td>   10.254</td> <td> 0.000</td> <td>    8.028</td> <td>   11.986</td>\n",
              "</tr>\n",
              "<tr>\n",
              "  <th>C(treatment)[T.method_2]</th> <td>    0.8919</td> <td>    1.380</td> <td>    0.646</td> <td> 0.522</td> <td>   -1.907</td> <td>    3.691</td>\n",
              "</tr>\n",
              "<tr>\n",
              "  <th>C(treatment)[T.method_3]</th> <td>    2.6441</td> <td>    1.380</td> <td>    1.916</td> <td> 0.063</td> <td>   -0.155</td> <td>    5.443</td>\n",
              "</tr>\n",
              "<tr>\n",
              "  <th>C(treatment)[T.method_4]</th> <td>    6.6961</td> <td>    1.380</td> <td>    4.852</td> <td> 0.000</td> <td>    3.897</td> <td>    9.495</td>\n",
              "</tr>\n",
              "</table>\n",
              "<table class=\"simpletable\">\n",
              "<tr>\n",
              "  <th>Omnibus:</th>       <td> 2.562</td> <th>  Durbin-Watson:     </th> <td>   1.630</td>\n",
              "</tr>\n",
              "<tr>\n",
              "  <th>Prob(Omnibus):</th> <td> 0.278</td> <th>  Jarque-Bera (JB):  </th> <td>   1.480</td>\n",
              "</tr>\n",
              "<tr>\n",
              "  <th>Skew:</th>          <td> 0.298</td> <th>  Prob(JB):          </th> <td>   0.477</td>\n",
              "</tr>\n",
              "<tr>\n",
              "  <th>Kurtosis:</th>      <td> 3.730</td> <th>  Cond. No.          </th> <td>    4.79</td>\n",
              "</tr>\n",
              "</table><br/><br/>Warnings:<br/>[1] Standard Errors assume that the covariance matrix of the errors is correctly specified."
            ],
            "text/plain": [
              "<class 'statsmodels.iolib.summary.Summary'>\n",
              "\"\"\"\n",
              "                            OLS Regression Results                            \n",
              "==============================================================================\n",
              "Dep. Variable:                  value   R-squared:                       0.435\n",
              "Model:                            OLS   Adj. R-squared:                  0.388\n",
              "Method:                 Least Squares   F-statistic:                     9.257\n",
              "Date:                Mon, 19 Apr 2021   Prob (F-statistic):           0.000113\n",
              "Time:                        16:31:29   Log-Likelihood:                -99.728\n",
              "No. Observations:                  40   AIC:                             207.5\n",
              "Df Residuals:                      36   BIC:                             214.2\n",
              "Df Model:                           3                                         \n",
              "Covariance Type:            nonrobust                                         \n",
              "============================================================================================\n",
              "                               coef    std err          t      P>|t|      [0.025      0.975]\n",
              "--------------------------------------------------------------------------------------------\n",
              "Intercept                   10.0071      0.976     10.254      0.000       8.028      11.986\n",
              "C(treatment)[T.method_2]     0.8919      1.380      0.646      0.522      -1.907       3.691\n",
              "C(treatment)[T.method_3]     2.6441      1.380      1.916      0.063      -0.155       5.443\n",
              "C(treatment)[T.method_4]     6.6961      1.380      4.852      0.000       3.897       9.495\n",
              "==============================================================================\n",
              "Omnibus:                        2.562   Durbin-Watson:                   1.630\n",
              "Prob(Omnibus):                  0.278   Jarque-Bera (JB):                1.480\n",
              "Skew:                           0.298   Prob(JB):                        0.477\n",
              "Kurtosis:                       3.730   Cond. No.                         4.79\n",
              "==============================================================================\n",
              "\n",
              "Warnings:\n",
              "[1] Standard Errors assume that the covariance matrix of the errors is correctly specified.\n",
              "\"\"\""
            ]
          },
          "metadata": {
            "tags": []
          },
          "execution_count": 101
        }
      ]
    },
    {
      "cell_type": "code",
      "metadata": {
        "colab": {
          "base_uri": "https://localhost:8080/",
          "height": 111
        },
        "id": "Rh8VIhtn8Mn6",
        "outputId": "4447c890-360e-4be5-ac37-484ec625b6d9"
      },
      "source": [
        "anova = sm.stats.anova_lm(model, typ=1)\n",
        "anova"
      ],
      "execution_count": 102,
      "outputs": [
        {
          "output_type": "execute_result",
          "data": {
            "text/html": [
              "<div>\n",
              "<style scoped>\n",
              "    .dataframe tbody tr th:only-of-type {\n",
              "        vertical-align: middle;\n",
              "    }\n",
              "\n",
              "    .dataframe tbody tr th {\n",
              "        vertical-align: top;\n",
              "    }\n",
              "\n",
              "    .dataframe thead th {\n",
              "        text-align: right;\n",
              "    }\n",
              "</style>\n",
              "<table border=\"1\" class=\"dataframe\">\n",
              "  <thead>\n",
              "    <tr style=\"text-align: right;\">\n",
              "      <th></th>\n",
              "      <th>df</th>\n",
              "      <th>sum_sq</th>\n",
              "      <th>mean_sq</th>\n",
              "      <th>F</th>\n",
              "      <th>PR(&gt;F)</th>\n",
              "    </tr>\n",
              "  </thead>\n",
              "  <tbody>\n",
              "    <tr>\n",
              "      <th>C(treatment)</th>\n",
              "      <td>3.0</td>\n",
              "      <td>264.506534</td>\n",
              "      <td>88.168845</td>\n",
              "      <td>9.257042</td>\n",
              "      <td>0.000113</td>\n",
              "    </tr>\n",
              "    <tr>\n",
              "      <th>Residual</th>\n",
              "      <td>36.0</td>\n",
              "      <td>342.882577</td>\n",
              "      <td>9.524516</td>\n",
              "      <td>NaN</td>\n",
              "      <td>NaN</td>\n",
              "    </tr>\n",
              "  </tbody>\n",
              "</table>\n",
              "</div>"
            ],
            "text/plain": [
              "                df      sum_sq    mean_sq         F    PR(>F)\n",
              "C(treatment)   3.0  264.506534  88.168845  9.257042  0.000113\n",
              "Residual      36.0  342.882577   9.524516       NaN       NaN"
            ]
          },
          "metadata": {
            "tags": []
          },
          "execution_count": 102
        }
      ]
    },
    {
      "cell_type": "code",
      "metadata": {
        "colab": {
          "base_uri": "https://localhost:8080/",
          "height": 279
        },
        "id": "txmC5sEs8TAm",
        "outputId": "933242a8-024b-40c3-801d-9f8a72829df7"
      },
      "source": [
        "sns.set_style('darkgrid')\n",
        "data.plot()\n",
        "plt.xlabel('Data points')\n",
        "plt.ylabel('Data value')\n",
        "plt.show()"
      ],
      "execution_count": 103,
      "outputs": [
        {
          "output_type": "display_data",
          "data": {
            "image/png": "[encoded data removed]",
            "text/plain": [
              "<Figure size 432x288 with 1 Axes>"
            ]
          },
          "metadata": {
            "tags": []
          }
        }
      ]
    },
    {
      "cell_type": "code",
      "metadata": {
        "colab": {
          "base_uri": "https://localhost:8080/",
          "height": 319
        },
        "id": "2cD86exI8V3U",
        "outputId": "1046c300-2651-4c73-ac70-2c393c00027e"
      },
      "source": [
        "data.mean(axis=0).plot(kind='bar')\n",
        "plt.xlabel('Methods / Groups')\n",
        "plt.ylabel('Mean value')\n",
        "plt.show()"
      ],
      "execution_count": 104,
      "outputs": [
        {
          "output_type": "display_data",
          "data": {
            "image/png": "[encoded data removed]",
            "text/plain": [
              "<Figure size 432x288 with 1 Axes>"
            ]
          },
          "metadata": {
            "tags": []
          }
        }
      ]
    },
    {
      "cell_type": "markdown",
      "metadata": {
        "id": "MetpPVpdDGc9"
      },
      "source": [
        "# Post Hoc Analysis"
      ]
    },
    {
      "cell_type": "code",
      "metadata": {
        "colab": {
          "base_uri": "https://localhost:8080/",
          "height": 183
        },
        "id": "JIxNBlr5C_28",
        "outputId": "4d64c12d-8684-4dd3-ce9b-e63ef266a4fa"
      },
      "source": [
        "from statsmodels.stats.multicomp import MultiComparison\n",
        "\n",
        "comparison = MultiComparison(df['value'], df['treatment'])\n",
        "tukey = comparison.tukeyhsd(0.05)\n",
        "tukey.summary()"
      ],
      "execution_count": 105,
      "outputs": [
        {
          "output_type": "execute_result",
          "data": {
            "text/html": [
              "<table class=\"simpletable\">\n",
              "<caption>Multiple Comparison of Means - Tukey HSD, FWER=0.05</caption>\n",
              "<tr>\n",
              "   <th>group1</th>   <th>group2</th>  <th>meandiff</th>  <th>p-adj</th>  <th>lower</th>   <th>upper</th>  <th>reject</th>\n",
              "</tr>\n",
              "<tr>\n",
              "  <td>method_1</td> <td>method_2</td>  <td>0.8919</td>    <td>0.9</td>  <td>-2.8253</td>  <td>4.609</td>   <td>False</td>\n",
              "</tr>\n",
              "<tr>\n",
              "  <td>method_1</td> <td>method_3</td>  <td>2.6441</td>  <td>0.2396</td> <td>-1.0731</td> <td>6.3613</td>   <td>False</td>\n",
              "</tr>\n",
              "<tr>\n",
              "  <td>method_1</td> <td>method_4</td>  <td>6.6961</td>   <td>0.001</td> <td>2.9789</td>  <td>10.4133</td>  <td>True</td> \n",
              "</tr>\n",
              "<tr>\n",
              "  <td>method_2</td> <td>method_3</td>  <td>1.7523</td>  <td>0.5788</td> <td>-1.9649</td> <td>5.4694</td>   <td>False</td>\n",
              "</tr>\n",
              "<tr>\n",
              "  <td>method_2</td> <td>method_4</td>  <td>5.8042</td>   <td>0.001</td> <td>2.0871</td>  <td>9.5214</td>   <td>True</td> \n",
              "</tr>\n",
              "<tr>\n",
              "  <td>method_3</td> <td>method_4</td>   <td>4.052</td>  <td>0.0282</td> <td>0.3348</td>  <td>7.7692</td>   <td>True</td> \n",
              "</tr>\n",
              "</table>"
            ],
            "text/plain": [
              "<class 'statsmodels.iolib.table.SimpleTable'>"
            ]
          },
          "metadata": {
            "tags": []
          },
          "execution_count": 105
        }
      ]
    },
    {
      "cell_type": "markdown",
      "metadata": {
        "id": "p1oTcUTPDJxO"
      },
      "source": [
        "### Thank You for your time!"
      ]
    }
  ]
}