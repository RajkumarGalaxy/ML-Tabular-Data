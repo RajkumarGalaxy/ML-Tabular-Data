{
  "nbformat": 4,
  "nbformat_minor": 0,
  "metadata": {
    "colab": {
      "name": "Datetime_Parsing_Pandas.ipynb",
      "provenance": [],
      "collapsed_sections": [],
      "authorship_tag": "ABX9TyPrsQePvdtO6KNh4lF+2gM9",
      "include_colab_link": true
    },
    "kernelspec": {
      "name": "python3",
      "display_name": "Python 3"
    },
    "language_info": {
      "name": "python"
    }
  },
  "cells": [
    {
      "cell_type": "markdown",
      "metadata": {
        "id": "view-in-github",
        "colab_type": "text"
      },
      "source": [
        "<a href=\"https://colab.research.google.com/github/RajkumarGalaxy/StructuredData/blob/master/Datetime_Parsing_Pandas.ipynb\" target=\"_parent\"><img src=\"https://colab.research.google.com/assets/colab-badge.svg\" alt=\"Open In Colab\"/></a>"
      ]
    },
    {
      "cell_type": "markdown",
      "metadata": {
        "id": "rVpI1C1eK6QF"
      },
      "source": [
        "# Datetime Parsing with Pandas\n",
        "\n",
        "\n",
        "References:\n",
        "\n",
        "https://pandas.pydata.org/docs/reference/api/pandas.to_datetime.html\n",
        "\n",
        "https://docs.python.org/3/library/datetime.html#strftime-and-strptime-behavior\n"
      ]
    },
    {
      "cell_type": "code",
      "metadata": {
        "id": "WtqVdCU_KrPz"
      },
      "source": [
        "import numpy as np\n",
        "import pandas as pd\n",
        "import matplotlib.pyplot as plt"
      ],
      "execution_count": 1,
      "outputs": []
    },
    {
      "cell_type": "markdown",
      "metadata": {
        "id": "fMpOQFxwLQ_C"
      },
      "source": [
        "## Import ForestFire time-series data file"
      ]
    },
    {
      "cell_type": "code",
      "metadata": {
        "colab": {
          "base_uri": "https://localhost:8080/",
          "height": 359
        },
        "id": "iWNff4CfLVZr",
        "outputId": "67bf1d52-4792-481f-d174-d043286c94f3"
      },
      "source": [
        "url = 'https://raw.githubusercontent.com/RajkumarGalaxy/dataset/master/TimeSeries/Algerian_forest_fires.csv'\n",
        "forestfire = pd.read_csv(url)\n",
        "forestfire.sample(10)"
      ],
      "execution_count": 2,
      "outputs": [
        {
          "output_type": "execute_result",
          "data": {
            "text/html": [
              "<div>\n",
              "<style scoped>\n",
              "    .dataframe tbody tr th:only-of-type {\n",
              "        vertical-align: middle;\n",
              "    }\n",
              "\n",
              "    .dataframe tbody tr th {\n",
              "        vertical-align: top;\n",
              "    }\n",
              "\n",
              "    .dataframe thead th {\n",
              "        text-align: right;\n",
              "    }\n",
              "</style>\n",
              "<table border=\"1\" class=\"dataframe\">\n",
              "  <thead>\n",
              "    <tr style=\"text-align: right;\">\n",
              "      <th></th>\n",
              "      <th>day</th>\n",
              "      <th>month</th>\n",
              "      <th>year</th>\n",
              "      <th>Temperature</th>\n",
              "      <th>RH</th>\n",
              "      <th>Ws</th>\n",
              "      <th>Rain</th>\n",
              "      <th>FFMC</th>\n",
              "      <th>DMC</th>\n",
              "      <th>DC</th>\n",
              "      <th>ISI</th>\n",
              "      <th>BUI</th>\n",
              "      <th>FWI</th>\n",
              "      <th>Classes</th>\n",
              "    </tr>\n",
              "  </thead>\n",
              "  <tbody>\n",
              "    <tr>\n",
              "      <th>91</th>\n",
              "      <td>31</td>\n",
              "      <td>8</td>\n",
              "      <td>2012</td>\n",
              "      <td>28</td>\n",
              "      <td>80</td>\n",
              "      <td>21</td>\n",
              "      <td>16.8</td>\n",
              "      <td>52.5</td>\n",
              "      <td>8.7</td>\n",
              "      <td>8.7</td>\n",
              "      <td>0.6</td>\n",
              "      <td>8.3</td>\n",
              "      <td>0.3</td>\n",
              "      <td>not fire</td>\n",
              "    </tr>\n",
              "    <tr>\n",
              "      <th>66</th>\n",
              "      <td>6</td>\n",
              "      <td>8</td>\n",
              "      <td>2012</td>\n",
              "      <td>32</td>\n",
              "      <td>75</td>\n",
              "      <td>14</td>\n",
              "      <td>0.0</td>\n",
              "      <td>86.4</td>\n",
              "      <td>13.0</td>\n",
              "      <td>39.1</td>\n",
              "      <td>5.2</td>\n",
              "      <td>14.2</td>\n",
              "      <td>6.8</td>\n",
              "      <td>fire</td>\n",
              "    </tr>\n",
              "    <tr>\n",
              "      <th>59</th>\n",
              "      <td>30</td>\n",
              "      <td>7</td>\n",
              "      <td>2012</td>\n",
              "      <td>31</td>\n",
              "      <td>79</td>\n",
              "      <td>15</td>\n",
              "      <td>0.0</td>\n",
              "      <td>85.4</td>\n",
              "      <td>28.5</td>\n",
              "      <td>136.0</td>\n",
              "      <td>4.7</td>\n",
              "      <td>37.4</td>\n",
              "      <td>10.7</td>\n",
              "      <td>fire</td>\n",
              "    </tr>\n",
              "    <tr>\n",
              "      <th>32</th>\n",
              "      <td>3</td>\n",
              "      <td>7</td>\n",
              "      <td>2012</td>\n",
              "      <td>32</td>\n",
              "      <td>76</td>\n",
              "      <td>20</td>\n",
              "      <td>0.7</td>\n",
              "      <td>63.1</td>\n",
              "      <td>2.6</td>\n",
              "      <td>9.2</td>\n",
              "      <td>1.3</td>\n",
              "      <td>3.0</td>\n",
              "      <td>0.5</td>\n",
              "      <td>not fire</td>\n",
              "    </tr>\n",
              "    <tr>\n",
              "      <th>98</th>\n",
              "      <td>7</td>\n",
              "      <td>9</td>\n",
              "      <td>2012</td>\n",
              "      <td>31</td>\n",
              "      <td>71</td>\n",
              "      <td>17</td>\n",
              "      <td>0.3</td>\n",
              "      <td>69.6</td>\n",
              "      <td>3.2</td>\n",
              "      <td>30.1</td>\n",
              "      <td>1.5</td>\n",
              "      <td>5.1</td>\n",
              "      <td>0.6</td>\n",
              "      <td>not fire</td>\n",
              "    </tr>\n",
              "    <tr>\n",
              "      <th>38</th>\n",
              "      <td>9</td>\n",
              "      <td>7</td>\n",
              "      <td>2012</td>\n",
              "      <td>32</td>\n",
              "      <td>68</td>\n",
              "      <td>14</td>\n",
              "      <td>1.4</td>\n",
              "      <td>66.6</td>\n",
              "      <td>7.7</td>\n",
              "      <td>9.2</td>\n",
              "      <td>1.1</td>\n",
              "      <td>7.4</td>\n",
              "      <td>0.6</td>\n",
              "      <td>not fire</td>\n",
              "    </tr>\n",
              "    <tr>\n",
              "      <th>14</th>\n",
              "      <td>15</td>\n",
              "      <td>6</td>\n",
              "      <td>2012</td>\n",
              "      <td>28</td>\n",
              "      <td>80</td>\n",
              "      <td>17</td>\n",
              "      <td>3.1</td>\n",
              "      <td>49.4</td>\n",
              "      <td>3.0</td>\n",
              "      <td>7.4</td>\n",
              "      <td>0.4</td>\n",
              "      <td>3.0</td>\n",
              "      <td>0.1</td>\n",
              "      <td>not fire</td>\n",
              "    </tr>\n",
              "    <tr>\n",
              "      <th>2</th>\n",
              "      <td>3</td>\n",
              "      <td>6</td>\n",
              "      <td>2012</td>\n",
              "      <td>26</td>\n",
              "      <td>82</td>\n",
              "      <td>22</td>\n",
              "      <td>13.1</td>\n",
              "      <td>47.1</td>\n",
              "      <td>2.5</td>\n",
              "      <td>7.1</td>\n",
              "      <td>0.3</td>\n",
              "      <td>2.7</td>\n",
              "      <td>0.1</td>\n",
              "      <td>not fire</td>\n",
              "    </tr>\n",
              "    <tr>\n",
              "      <th>70</th>\n",
              "      <td>10</td>\n",
              "      <td>8</td>\n",
              "      <td>2012</td>\n",
              "      <td>35</td>\n",
              "      <td>55</td>\n",
              "      <td>14</td>\n",
              "      <td>0.0</td>\n",
              "      <td>88.9</td>\n",
              "      <td>18.6</td>\n",
              "      <td>67.0</td>\n",
              "      <td>7.4</td>\n",
              "      <td>21.9</td>\n",
              "      <td>11.6</td>\n",
              "      <td>fire</td>\n",
              "    </tr>\n",
              "    <tr>\n",
              "      <th>39</th>\n",
              "      <td>10</td>\n",
              "      <td>7</td>\n",
              "      <td>2012</td>\n",
              "      <td>33</td>\n",
              "      <td>69</td>\n",
              "      <td>13</td>\n",
              "      <td>0.7</td>\n",
              "      <td>66.6</td>\n",
              "      <td>6.0</td>\n",
              "      <td>9.3</td>\n",
              "      <td>1.1</td>\n",
              "      <td>5.8</td>\n",
              "      <td>0.5</td>\n",
              "      <td>not fire</td>\n",
              "    </tr>\n",
              "  </tbody>\n",
              "</table>\n",
              "</div>"
            ],
            "text/plain": [
              "    day  month  year  Temperature   RH  ...     DC  ISI   BUI   FWI    Classes  \n",
              "91   31      8  2012           28   80  ...    8.7  0.6   8.3   0.3     not fire\n",
              "66    6      8  2012           32   75  ...   39.1  5.2  14.2   6.8      fire   \n",
              "59   30      7  2012           31   79  ...  136.0  4.7  37.4  10.7      fire   \n",
              "32    3      7  2012           32   76  ...    9.2  1.3   3.0   0.5  not fire   \n",
              "98    7      9  2012           31   71  ...   30.1  1.5   5.1   0.6  not fire   \n",
              "38    9      7  2012           32   68  ...    9.2  1.1   7.4   0.6  not fire   \n",
              "14   15      6  2012           28   80  ...    7.4  0.4   3.0   0.1  not fire   \n",
              "2     3      6  2012           26   82  ...    7.1  0.3   2.7   0.1  not fire   \n",
              "70   10      8  2012           35   55  ...   67.0  7.4  21.9  11.6      fire   \n",
              "39   10      7  2012           33   69  ...    9.3  1.1   5.8   0.5  not fire   \n",
              "\n",
              "[10 rows x 14 columns]"
            ]
          },
          "metadata": {
            "tags": []
          },
          "execution_count": 2
        }
      ]
    },
    {
      "cell_type": "code",
      "metadata": {
        "colab": {
          "base_uri": "https://localhost:8080/"
        },
        "id": "9Z1Oe6ZJWQH3",
        "outputId": "cb5c4bf8-f551-4a38-fa49-499b50d60530"
      },
      "source": [
        "forestfire.info()"
      ],
      "execution_count": 3,
      "outputs": [
        {
          "output_type": "stream",
          "text": [
            "<class 'pandas.core.frame.DataFrame'>\n",
            "RangeIndex: 122 entries, 0 to 121\n",
            "Data columns (total 14 columns):\n",
            " #   Column       Non-Null Count  Dtype  \n",
            "---  ------       --------------  -----  \n",
            " 0   day          122 non-null    int64  \n",
            " 1   month        122 non-null    int64  \n",
            " 2   year         122 non-null    int64  \n",
            " 3   Temperature  122 non-null    int64  \n",
            " 4    RH          122 non-null    int64  \n",
            " 5    Ws          122 non-null    int64  \n",
            " 6   Rain         122 non-null    float64\n",
            " 7   FFMC         122 non-null    float64\n",
            " 8   DMC          122 non-null    float64\n",
            " 9   DC           122 non-null    float64\n",
            " 10  ISI          122 non-null    float64\n",
            " 11  BUI          122 non-null    float64\n",
            " 12  FWI          122 non-null    float64\n",
            " 13  Classes      122 non-null    object \n",
            "dtypes: float64(7), int64(6), object(1)\n",
            "memory usage: 13.5+ KB\n"
          ],
          "name": "stdout"
        }
      ]
    },
    {
      "cell_type": "code",
      "metadata": {
        "colab": {
          "base_uri": "https://localhost:8080/",
          "height": 204
        },
        "id": "Z-UbwHZcebXE",
        "outputId": "6a877450-bc4d-4f2c-dd62-966861eef8cc"
      },
      "source": [
        "forestfire['date'] = pd.to_datetime(forestfire[['day', 'month', 'year']])\n",
        "forestfire.head()"
      ],
      "execution_count": 4,
      "outputs": [
        {
          "output_type": "execute_result",
          "data": {
            "text/html": [
              "<div>\n",
              "<style scoped>\n",
              "    .dataframe tbody tr th:only-of-type {\n",
              "        vertical-align: middle;\n",
              "    }\n",
              "\n",
              "    .dataframe tbody tr th {\n",
              "        vertical-align: top;\n",
              "    }\n",
              "\n",
              "    .dataframe thead th {\n",
              "        text-align: right;\n",
              "    }\n",
              "</style>\n",
              "<table border=\"1\" class=\"dataframe\">\n",
              "  <thead>\n",
              "    <tr style=\"text-align: right;\">\n",
              "      <th></th>\n",
              "      <th>day</th>\n",
              "      <th>month</th>\n",
              "      <th>year</th>\n",
              "      <th>Temperature</th>\n",
              "      <th>RH</th>\n",
              "      <th>Ws</th>\n",
              "      <th>Rain</th>\n",
              "      <th>FFMC</th>\n",
              "      <th>DMC</th>\n",
              "      <th>DC</th>\n",
              "      <th>ISI</th>\n",
              "      <th>BUI</th>\n",
              "      <th>FWI</th>\n",
              "      <th>Classes</th>\n",
              "      <th>date</th>\n",
              "    </tr>\n",
              "  </thead>\n",
              "  <tbody>\n",
              "    <tr>\n",
              "      <th>0</th>\n",
              "      <td>1</td>\n",
              "      <td>6</td>\n",
              "      <td>2012</td>\n",
              "      <td>29</td>\n",
              "      <td>57</td>\n",
              "      <td>18</td>\n",
              "      <td>0.0</td>\n",
              "      <td>65.7</td>\n",
              "      <td>3.4</td>\n",
              "      <td>7.6</td>\n",
              "      <td>1.3</td>\n",
              "      <td>3.4</td>\n",
              "      <td>0.5</td>\n",
              "      <td>not fire</td>\n",
              "      <td>2012-06-01</td>\n",
              "    </tr>\n",
              "    <tr>\n",
              "      <th>1</th>\n",
              "      <td>2</td>\n",
              "      <td>6</td>\n",
              "      <td>2012</td>\n",
              "      <td>29</td>\n",
              "      <td>61</td>\n",
              "      <td>13</td>\n",
              "      <td>1.3</td>\n",
              "      <td>64.4</td>\n",
              "      <td>4.1</td>\n",
              "      <td>7.6</td>\n",
              "      <td>1.0</td>\n",
              "      <td>3.9</td>\n",
              "      <td>0.4</td>\n",
              "      <td>not fire</td>\n",
              "      <td>2012-06-02</td>\n",
              "    </tr>\n",
              "    <tr>\n",
              "      <th>2</th>\n",
              "      <td>3</td>\n",
              "      <td>6</td>\n",
              "      <td>2012</td>\n",
              "      <td>26</td>\n",
              "      <td>82</td>\n",
              "      <td>22</td>\n",
              "      <td>13.1</td>\n",
              "      <td>47.1</td>\n",
              "      <td>2.5</td>\n",
              "      <td>7.1</td>\n",
              "      <td>0.3</td>\n",
              "      <td>2.7</td>\n",
              "      <td>0.1</td>\n",
              "      <td>not fire</td>\n",
              "      <td>2012-06-03</td>\n",
              "    </tr>\n",
              "    <tr>\n",
              "      <th>3</th>\n",
              "      <td>4</td>\n",
              "      <td>6</td>\n",
              "      <td>2012</td>\n",
              "      <td>25</td>\n",
              "      <td>89</td>\n",
              "      <td>13</td>\n",
              "      <td>2.5</td>\n",
              "      <td>28.6</td>\n",
              "      <td>1.3</td>\n",
              "      <td>6.9</td>\n",
              "      <td>0.0</td>\n",
              "      <td>1.7</td>\n",
              "      <td>0.0</td>\n",
              "      <td>not fire</td>\n",
              "      <td>2012-06-04</td>\n",
              "    </tr>\n",
              "    <tr>\n",
              "      <th>4</th>\n",
              "      <td>5</td>\n",
              "      <td>6</td>\n",
              "      <td>2012</td>\n",
              "      <td>27</td>\n",
              "      <td>77</td>\n",
              "      <td>16</td>\n",
              "      <td>0.0</td>\n",
              "      <td>64.8</td>\n",
              "      <td>3.0</td>\n",
              "      <td>14.2</td>\n",
              "      <td>1.2</td>\n",
              "      <td>3.9</td>\n",
              "      <td>0.5</td>\n",
              "      <td>not fire</td>\n",
              "      <td>2012-06-05</td>\n",
              "    </tr>\n",
              "  </tbody>\n",
              "</table>\n",
              "</div>"
            ],
            "text/plain": [
              "   day  month  year  Temperature   RH  ...  ISI  BUI  FWI    Classes         date\n",
              "0    1      6  2012           29   57  ...  1.3  3.4  0.5  not fire    2012-06-01\n",
              "1    2      6  2012           29   61  ...  1.0  3.9  0.4  not fire    2012-06-02\n",
              "2    3      6  2012           26   82  ...  0.3  2.7  0.1  not fire    2012-06-03\n",
              "3    4      6  2012           25   89  ...  0.0  1.7  0.0  not fire    2012-06-04\n",
              "4    5      6  2012           27   77  ...  1.2  3.9  0.5  not fire    2012-06-05\n",
              "\n",
              "[5 rows x 15 columns]"
            ]
          },
          "metadata": {
            "tags": []
          },
          "execution_count": 4
        }
      ]
    },
    {
      "cell_type": "code",
      "metadata": {
        "colab": {
          "base_uri": "https://localhost:8080/"
        },
        "id": "yjsgHBOkjG0t",
        "outputId": "44a5e8a9-be5c-454e-eec2-0b7b03cdbb55"
      },
      "source": [
        "forestfire.drop(columns=['day','month','year'], inplace=True)\n",
        "forestfire.info()"
      ],
      "execution_count": 5,
      "outputs": [
        {
          "output_type": "stream",
          "text": [
            "<class 'pandas.core.frame.DataFrame'>\n",
            "RangeIndex: 122 entries, 0 to 121\n",
            "Data columns (total 12 columns):\n",
            " #   Column       Non-Null Count  Dtype         \n",
            "---  ------       --------------  -----         \n",
            " 0   Temperature  122 non-null    int64         \n",
            " 1    RH          122 non-null    int64         \n",
            " 2    Ws          122 non-null    int64         \n",
            " 3   Rain         122 non-null    float64       \n",
            " 4   FFMC         122 non-null    float64       \n",
            " 5   DMC          122 non-null    float64       \n",
            " 6   DC           122 non-null    float64       \n",
            " 7   ISI          122 non-null    float64       \n",
            " 8   BUI          122 non-null    float64       \n",
            " 9   FWI          122 non-null    float64       \n",
            " 10  Classes      122 non-null    object        \n",
            " 11  date         122 non-null    datetime64[ns]\n",
            "dtypes: datetime64[ns](1), float64(7), int64(3), object(1)\n",
            "memory usage: 11.6+ KB\n"
          ],
          "name": "stdout"
        }
      ]
    },
    {
      "cell_type": "code",
      "metadata": {
        "colab": {
          "base_uri": "https://localhost:8080/",
          "height": 204
        },
        "id": "mjbquGPmkCzn",
        "outputId": "f180b889-9c76-402c-8658-a5ffafb8704c"
      },
      "source": [
        "days = forestfire['date'].dt.day\n",
        "months = forestfire['date'].dt.month\n",
        "years = forestfire['date'].dt.year\n",
        "\n",
        "recon = pd.DataFrame(zip(days,months,years), columns = ['DAY','MONTH','YEAR'])\n",
        "recon.head()"
      ],
      "execution_count": 6,
      "outputs": [
        {
          "output_type": "execute_result",
          "data": {
            "text/html": [
              "<div>\n",
              "<style scoped>\n",
              "    .dataframe tbody tr th:only-of-type {\n",
              "        vertical-align: middle;\n",
              "    }\n",
              "\n",
              "    .dataframe tbody tr th {\n",
              "        vertical-align: top;\n",
              "    }\n",
              "\n",
              "    .dataframe thead th {\n",
              "        text-align: right;\n",
              "    }\n",
              "</style>\n",
              "<table border=\"1\" class=\"dataframe\">\n",
              "  <thead>\n",
              "    <tr style=\"text-align: right;\">\n",
              "      <th></th>\n",
              "      <th>DAY</th>\n",
              "      <th>MONTH</th>\n",
              "      <th>YEAR</th>\n",
              "    </tr>\n",
              "  </thead>\n",
              "  <tbody>\n",
              "    <tr>\n",
              "      <th>0</th>\n",
              "      <td>1</td>\n",
              "      <td>6</td>\n",
              "      <td>2012</td>\n",
              "    </tr>\n",
              "    <tr>\n",
              "      <th>1</th>\n",
              "      <td>2</td>\n",
              "      <td>6</td>\n",
              "      <td>2012</td>\n",
              "    </tr>\n",
              "    <tr>\n",
              "      <th>2</th>\n",
              "      <td>3</td>\n",
              "      <td>6</td>\n",
              "      <td>2012</td>\n",
              "    </tr>\n",
              "    <tr>\n",
              "      <th>3</th>\n",
              "      <td>4</td>\n",
              "      <td>6</td>\n",
              "      <td>2012</td>\n",
              "    </tr>\n",
              "    <tr>\n",
              "      <th>4</th>\n",
              "      <td>5</td>\n",
              "      <td>6</td>\n",
              "      <td>2012</td>\n",
              "    </tr>\n",
              "  </tbody>\n",
              "</table>\n",
              "</div>"
            ],
            "text/plain": [
              "   DAY  MONTH  YEAR\n",
              "0    1      6  2012\n",
              "1    2      6  2012\n",
              "2    3      6  2012\n",
              "3    4      6  2012\n",
              "4    5      6  2012"
            ]
          },
          "metadata": {
            "tags": []
          },
          "execution_count": 6
        }
      ]
    },
    {
      "cell_type": "code",
      "metadata": {
        "colab": {
          "base_uri": "https://localhost:8080/",
          "height": 288
        },
        "id": "5TOeHHfekq_Q",
        "outputId": "d632a60b-e299-44a5-ee93-b5a56d78da80"
      },
      "source": [
        "forestfire['date'].value_counts().plot.line()"
      ],
      "execution_count": 7,
      "outputs": [
        {
          "output_type": "execute_result",
          "data": {
            "text/plain": [
              "<matplotlib.axes._subplots.AxesSubplot at 0x7f08221144d0>"
            ]
          },
          "metadata": {
            "tags": []
          },
          "execution_count": 7
        },
        {
          "output_type": "display_data",
          "data": {
            "image/png": "[encoded data removed]",
            "text/plain": [
              "<Figure size 432x288 with 1 Axes>"
            ]
          },
          "metadata": {
            "tags": [],
            "needs_background": "light"
          }
        }
      ]
    },
    {
      "cell_type": "code",
      "metadata": {
        "colab": {
          "base_uri": "https://localhost:8080/",
          "height": 362
        },
        "id": "XVMlicUFm2hJ",
        "outputId": "063b612f-bff5-4eab-b854-3112c87234af"
      },
      "source": [
        "forestfire['date'].value_counts().resample('M').plot.line()"
      ],
      "execution_count": 8,
      "outputs": [
        {
          "output_type": "execute_result",
          "data": {
            "text/plain": [
              "2012-06-30    AxesSubplot(0.125,0.125;0.775x0.755)\n",
              "2012-07-31    AxesSubplot(0.125,0.125;0.775x0.755)\n",
              "2012-08-31    AxesSubplot(0.125,0.125;0.775x0.755)\n",
              "2012-09-30    AxesSubplot(0.125,0.125;0.775x0.755)\n",
              "Freq: M, Name: date, dtype: object"
            ]
          },
          "metadata": {
            "tags": []
          },
          "execution_count": 8
        },
        {
          "output_type": "display_data",
          "data": {
            "image/png": "[encoded data removed]",
            "text/plain": [
              "<Figure size 432x288 with 1 Axes>"
            ]
          },
          "metadata": {
            "tags": [],
            "needs_background": "light"
          }
        }
      ]
    },
    {
      "cell_type": "markdown",
      "metadata": {
        "id": "o_FtgY7Vn1kO"
      },
      "source": [
        "## Air Quality Time-series Dataset "
      ]
    },
    {
      "cell_type": "code",
      "metadata": {
        "colab": {
          "base_uri": "https://localhost:8080/",
          "height": 204
        },
        "id": "IBL7cIF-ntzb",
        "outputId": "d1741416-1214-4d98-fa20-56aed05f1dec"
      },
      "source": [
        "airquality_url = 'https://raw.githubusercontent.com/RajkumarGalaxy/dataset/master/TimeSeries/AirQualityUCI.csv'\n",
        "# read first 5 columns for better visual clarity\n",
        "airquality = pd.read_csv(airquality_url, sep=';').iloc[:,:5]\n",
        "airquality.head(5)"
      ],
      "execution_count": 13,
      "outputs": [
        {
          "output_type": "execute_result",
          "data": {
            "text/html": [
              "<div>\n",
              "<style scoped>\n",
              "    .dataframe tbody tr th:only-of-type {\n",
              "        vertical-align: middle;\n",
              "    }\n",
              "\n",
              "    .dataframe tbody tr th {\n",
              "        vertical-align: top;\n",
              "    }\n",
              "\n",
              "    .dataframe thead th {\n",
              "        text-align: right;\n",
              "    }\n",
              "</style>\n",
              "<table border=\"1\" class=\"dataframe\">\n",
              "  <thead>\n",
              "    <tr style=\"text-align: right;\">\n",
              "      <th></th>\n",
              "      <th>Date</th>\n",
              "      <th>Time</th>\n",
              "      <th>CO(GT)</th>\n",
              "      <th>PT08.S1(CO)</th>\n",
              "      <th>NMHC(GT)</th>\n",
              "    </tr>\n",
              "  </thead>\n",
              "  <tbody>\n",
              "    <tr>\n",
              "      <th>0</th>\n",
              "      <td>10/03/2004</td>\n",
              "      <td>18.00.00</td>\n",
              "      <td>2,6</td>\n",
              "      <td>1360.0</td>\n",
              "      <td>150.0</td>\n",
              "    </tr>\n",
              "    <tr>\n",
              "      <th>1</th>\n",
              "      <td>10/03/2004</td>\n",
              "      <td>19.00.00</td>\n",
              "      <td>2</td>\n",
              "      <td>1292.0</td>\n",
              "      <td>112.0</td>\n",
              "    </tr>\n",
              "    <tr>\n",
              "      <th>2</th>\n",
              "      <td>10/03/2004</td>\n",
              "      <td>20.00.00</td>\n",
              "      <td>2,2</td>\n",
              "      <td>1402.0</td>\n",
              "      <td>88.0</td>\n",
              "    </tr>\n",
              "    <tr>\n",
              "      <th>3</th>\n",
              "      <td>10/03/2004</td>\n",
              "      <td>21.00.00</td>\n",
              "      <td>2,2</td>\n",
              "      <td>1376.0</td>\n",
              "      <td>80.0</td>\n",
              "    </tr>\n",
              "    <tr>\n",
              "      <th>4</th>\n",
              "      <td>10/03/2004</td>\n",
              "      <td>22.00.00</td>\n",
              "      <td>1,6</td>\n",
              "      <td>1272.0</td>\n",
              "      <td>51.0</td>\n",
              "    </tr>\n",
              "  </tbody>\n",
              "</table>\n",
              "</div>"
            ],
            "text/plain": [
              "         Date      Time CO(GT)  PT08.S1(CO)  NMHC(GT)\n",
              "0  10/03/2004  18.00.00    2,6       1360.0     150.0\n",
              "1  10/03/2004  19.00.00      2       1292.0     112.0\n",
              "2  10/03/2004  20.00.00    2,2       1402.0      88.0\n",
              "3  10/03/2004  21.00.00    2,2       1376.0      80.0\n",
              "4  10/03/2004  22.00.00    1,6       1272.0      51.0"
            ]
          },
          "metadata": {
            "tags": []
          },
          "execution_count": 13
        }
      ]
    },
    {
      "cell_type": "code",
      "metadata": {
        "colab": {
          "base_uri": "https://localhost:8080/"
        },
        "id": "EpOt55bdpgl8",
        "outputId": "c2eaff9d-3dbb-4023-ef35-ad4a1a8dcd8b"
      },
      "source": [
        "airquality.info()"
      ],
      "execution_count": 10,
      "outputs": [
        {
          "output_type": "stream",
          "text": [
            "<class 'pandas.core.frame.DataFrame'>\n",
            "RangeIndex: 9471 entries, 0 to 9470\n",
            "Data columns (total 5 columns):\n",
            " #   Column       Non-Null Count  Dtype  \n",
            "---  ------       --------------  -----  \n",
            " 0   Date         9357 non-null   object \n",
            " 1   Time         9357 non-null   object \n",
            " 2   CO(GT)       9357 non-null   object \n",
            " 3   PT08.S1(CO)  9357 non-null   float64\n",
            " 4   NMHC(GT)     9357 non-null   float64\n",
            "dtypes: float64(2), object(3)\n",
            "memory usage: 370.1+ KB\n"
          ],
          "name": "stdout"
        }
      ]
    },
    {
      "cell_type": "code",
      "metadata": {
        "id": "LsihILyrptWi"
      },
      "source": [
        "airquality['DATE'] = pd.to_datetime(airquality['Date'], format='%d/%m/%Y')\n",
        "airquality['TIME'] = pd.to_datetime(airquality['Time'], format='%H.%M.%S')\n"
      ],
      "execution_count": 14,
      "outputs": []
    },
    {
      "cell_type": "code",
      "metadata": {
        "colab": {
          "base_uri": "https://localhost:8080/"
        },
        "id": "hO-gbo1K2Des",
        "outputId": "7a3790a2-9c6d-46c7-8a1d-5f3922edadd3"
      },
      "source": [
        "airquality.drop(columns=['Date', 'Time'], inplace=True)\n",
        "airquality.info()"
      ],
      "execution_count": 15,
      "outputs": [
        {
          "output_type": "stream",
          "text": [
            "<class 'pandas.core.frame.DataFrame'>\n",
            "RangeIndex: 9471 entries, 0 to 9470\n",
            "Data columns (total 5 columns):\n",
            " #   Column       Non-Null Count  Dtype         \n",
            "---  ------       --------------  -----         \n",
            " 0   CO(GT)       9357 non-null   object        \n",
            " 1   PT08.S1(CO)  9357 non-null   float64       \n",
            " 2   NMHC(GT)     9357 non-null   float64       \n",
            " 3   DATE         9357 non-null   datetime64[ns]\n",
            " 4   TIME         9357 non-null   datetime64[ns]\n",
            "dtypes: datetime64[ns](2), float64(2), object(1)\n",
            "memory usage: 370.1+ KB\n"
          ],
          "name": "stdout"
        }
      ]
    },
    {
      "cell_type": "code",
      "metadata": {
        "colab": {
          "base_uri": "https://localhost:8080/",
          "height": 204
        },
        "id": "4snVe3NHPMKv",
        "outputId": "d8de5655-6875-4012-fe3e-462012857695"
      },
      "source": [
        "airquality['DAY'] = airquality['DATE'].dt.day\n",
        "airquality['MONTH'] = airquality['DATE'].dt.month\n",
        "airquality['YEAR'] = airquality['DATE'].dt.year\n",
        "\n",
        "airquality['HOUR'] = airquality['TIME'].dt.hour\n",
        "airquality['MINUTE'] = airquality['TIME'].dt.minute\n",
        "airquality['SECOND'] = airquality['TIME'].dt.second\n",
        "\n",
        "airquality.drop(columns=['DATE', 'TIME'], inplace=True)\n",
        "airquality.head()"
      ],
      "execution_count": 16,
      "outputs": [
        {
          "output_type": "execute_result",
          "data": {
            "text/html": [
              "<div>\n",
              "<style scoped>\n",
              "    .dataframe tbody tr th:only-of-type {\n",
              "        vertical-align: middle;\n",
              "    }\n",
              "\n",
              "    .dataframe tbody tr th {\n",
              "        vertical-align: top;\n",
              "    }\n",
              "\n",
              "    .dataframe thead th {\n",
              "        text-align: right;\n",
              "    }\n",
              "</style>\n",
              "<table border=\"1\" class=\"dataframe\">\n",
              "  <thead>\n",
              "    <tr style=\"text-align: right;\">\n",
              "      <th></th>\n",
              "      <th>CO(GT)</th>\n",
              "      <th>PT08.S1(CO)</th>\n",
              "      <th>NMHC(GT)</th>\n",
              "      <th>DAY</th>\n",
              "      <th>MONTH</th>\n",
              "      <th>YEAR</th>\n",
              "      <th>HOUR</th>\n",
              "      <th>MINUTE</th>\n",
              "      <th>SECOND</th>\n",
              "    </tr>\n",
              "  </thead>\n",
              "  <tbody>\n",
              "    <tr>\n",
              "      <th>0</th>\n",
              "      <td>2,6</td>\n",
              "      <td>1360.0</td>\n",
              "      <td>150.0</td>\n",
              "      <td>10.0</td>\n",
              "      <td>3.0</td>\n",
              "      <td>2004.0</td>\n",
              "      <td>18.0</td>\n",
              "      <td>0.0</td>\n",
              "      <td>0.0</td>\n",
              "    </tr>\n",
              "    <tr>\n",
              "      <th>1</th>\n",
              "      <td>2</td>\n",
              "      <td>1292.0</td>\n",
              "      <td>112.0</td>\n",
              "      <td>10.0</td>\n",
              "      <td>3.0</td>\n",
              "      <td>2004.0</td>\n",
              "      <td>19.0</td>\n",
              "      <td>0.0</td>\n",
              "      <td>0.0</td>\n",
              "    </tr>\n",
              "    <tr>\n",
              "      <th>2</th>\n",
              "      <td>2,2</td>\n",
              "      <td>1402.0</td>\n",
              "      <td>88.0</td>\n",
              "      <td>10.0</td>\n",
              "      <td>3.0</td>\n",
              "      <td>2004.0</td>\n",
              "      <td>20.0</td>\n",
              "      <td>0.0</td>\n",
              "      <td>0.0</td>\n",
              "    </tr>\n",
              "    <tr>\n",
              "      <th>3</th>\n",
              "      <td>2,2</td>\n",
              "      <td>1376.0</td>\n",
              "      <td>80.0</td>\n",
              "      <td>10.0</td>\n",
              "      <td>3.0</td>\n",
              "      <td>2004.0</td>\n",
              "      <td>21.0</td>\n",
              "      <td>0.0</td>\n",
              "      <td>0.0</td>\n",
              "    </tr>\n",
              "    <tr>\n",
              "      <th>4</th>\n",
              "      <td>1,6</td>\n",
              "      <td>1272.0</td>\n",
              "      <td>51.0</td>\n",
              "      <td>10.0</td>\n",
              "      <td>3.0</td>\n",
              "      <td>2004.0</td>\n",
              "      <td>22.0</td>\n",
              "      <td>0.0</td>\n",
              "      <td>0.0</td>\n",
              "    </tr>\n",
              "  </tbody>\n",
              "</table>\n",
              "</div>"
            ],
            "text/plain": [
              "  CO(GT)  PT08.S1(CO)  NMHC(GT)   DAY  MONTH    YEAR  HOUR  MINUTE  SECOND\n",
              "0    2,6       1360.0     150.0  10.0    3.0  2004.0  18.0     0.0     0.0\n",
              "1      2       1292.0     112.0  10.0    3.0  2004.0  19.0     0.0     0.0\n",
              "2    2,2       1402.0      88.0  10.0    3.0  2004.0  20.0     0.0     0.0\n",
              "3    2,2       1376.0      80.0  10.0    3.0  2004.0  21.0     0.0     0.0\n",
              "4    1,6       1272.0      51.0  10.0    3.0  2004.0  22.0     0.0     0.0"
            ]
          },
          "metadata": {
            "tags": []
          },
          "execution_count": 16
        }
      ]
    },
    {
      "cell_type": "code",
      "metadata": {
        "colab": {
          "base_uri": "https://localhost:8080/",
          "height": 204
        },
        "id": "ORBhU0fxQlsX",
        "outputId": "55e65c76-1fa4-441e-e41e-f58d243f7245"
      },
      "source": [
        "airquality['parsed'] = pd.to_datetime(airquality[['DAY','MONTH','YEAR','HOUR','MINUTE','SECOND']])\n",
        "airquality.head()"
      ],
      "execution_count": 17,
      "outputs": [
        {
          "output_type": "execute_result",
          "data": {
            "text/html": [
              "<div>\n",
              "<style scoped>\n",
              "    .dataframe tbody tr th:only-of-type {\n",
              "        vertical-align: middle;\n",
              "    }\n",
              "\n",
              "    .dataframe tbody tr th {\n",
              "        vertical-align: top;\n",
              "    }\n",
              "\n",
              "    .dataframe thead th {\n",
              "        text-align: right;\n",
              "    }\n",
              "</style>\n",
              "<table border=\"1\" class=\"dataframe\">\n",
              "  <thead>\n",
              "    <tr style=\"text-align: right;\">\n",
              "      <th></th>\n",
              "      <th>CO(GT)</th>\n",
              "      <th>PT08.S1(CO)</th>\n",
              "      <th>NMHC(GT)</th>\n",
              "      <th>DAY</th>\n",
              "      <th>MONTH</th>\n",
              "      <th>YEAR</th>\n",
              "      <th>HOUR</th>\n",
              "      <th>MINUTE</th>\n",
              "      <th>SECOND</th>\n",
              "      <th>parsed</th>\n",
              "    </tr>\n",
              "  </thead>\n",
              "  <tbody>\n",
              "    <tr>\n",
              "      <th>0</th>\n",
              "      <td>2,6</td>\n",
              "      <td>1360.0</td>\n",
              "      <td>150.0</td>\n",
              "      <td>10.0</td>\n",
              "      <td>3.0</td>\n",
              "      <td>2004.0</td>\n",
              "      <td>18.0</td>\n",
              "      <td>0.0</td>\n",
              "      <td>0.0</td>\n",
              "      <td>2004-03-10 18:00:00</td>\n",
              "    </tr>\n",
              "    <tr>\n",
              "      <th>1</th>\n",
              "      <td>2</td>\n",
              "      <td>1292.0</td>\n",
              "      <td>112.0</td>\n",
              "      <td>10.0</td>\n",
              "      <td>3.0</td>\n",
              "      <td>2004.0</td>\n",
              "      <td>19.0</td>\n",
              "      <td>0.0</td>\n",
              "      <td>0.0</td>\n",
              "      <td>2004-03-10 19:00:00</td>\n",
              "    </tr>\n",
              "    <tr>\n",
              "      <th>2</th>\n",
              "      <td>2,2</td>\n",
              "      <td>1402.0</td>\n",
              "      <td>88.0</td>\n",
              "      <td>10.0</td>\n",
              "      <td>3.0</td>\n",
              "      <td>2004.0</td>\n",
              "      <td>20.0</td>\n",
              "      <td>0.0</td>\n",
              "      <td>0.0</td>\n",
              "      <td>2004-03-10 20:00:00</td>\n",
              "    </tr>\n",
              "    <tr>\n",
              "      <th>3</th>\n",
              "      <td>2,2</td>\n",
              "      <td>1376.0</td>\n",
              "      <td>80.0</td>\n",
              "      <td>10.0</td>\n",
              "      <td>3.0</td>\n",
              "      <td>2004.0</td>\n",
              "      <td>21.0</td>\n",
              "      <td>0.0</td>\n",
              "      <td>0.0</td>\n",
              "      <td>2004-03-10 21:00:00</td>\n",
              "    </tr>\n",
              "    <tr>\n",
              "      <th>4</th>\n",
              "      <td>1,6</td>\n",
              "      <td>1272.0</td>\n",
              "      <td>51.0</td>\n",
              "      <td>10.0</td>\n",
              "      <td>3.0</td>\n",
              "      <td>2004.0</td>\n",
              "      <td>22.0</td>\n",
              "      <td>0.0</td>\n",
              "      <td>0.0</td>\n",
              "      <td>2004-03-10 22:00:00</td>\n",
              "    </tr>\n",
              "  </tbody>\n",
              "</table>\n",
              "</div>"
            ],
            "text/plain": [
              "  CO(GT)  PT08.S1(CO)  NMHC(GT)   DAY  ...  HOUR  MINUTE  SECOND              parsed\n",
              "0    2,6       1360.0     150.0  10.0  ...  18.0     0.0     0.0 2004-03-10 18:00:00\n",
              "1      2       1292.0     112.0  10.0  ...  19.0     0.0     0.0 2004-03-10 19:00:00\n",
              "2    2,2       1402.0      88.0  10.0  ...  20.0     0.0     0.0 2004-03-10 20:00:00\n",
              "3    2,2       1376.0      80.0  10.0  ...  21.0     0.0     0.0 2004-03-10 21:00:00\n",
              "4    1,6       1272.0      51.0  10.0  ...  22.0     0.0     0.0 2004-03-10 22:00:00\n",
              "\n",
              "[5 rows x 10 columns]"
            ]
          },
          "metadata": {
            "tags": []
          },
          "execution_count": 17
        }
      ]
    },
    {
      "cell_type": "code",
      "metadata": {
        "colab": {
          "base_uri": "https://localhost:8080/",
          "height": 204
        },
        "id": "Lv8cyAJWUQMt",
        "outputId": "fdc2d230-82fc-4706-e731-1cf4a7b91440"
      },
      "source": [
        "airquality['formatted_date'] = pd.to_datetime(airquality[['DAY','MONTH','YEAR','HOUR','MINUTE','SECOND']]).dt.strftime('%d %b %Y, %I.%M.%S %p')\n",
        "# display last 8 columns only for better visual clarity\n",
        "airquality.head().iloc[:,-8:]"
      ],
      "execution_count": 25,
      "outputs": [
        {
          "output_type": "execute_result",
          "data": {
            "text/html": [
              "<div>\n",
              "<style scoped>\n",
              "    .dataframe tbody tr th:only-of-type {\n",
              "        vertical-align: middle;\n",
              "    }\n",
              "\n",
              "    .dataframe tbody tr th {\n",
              "        vertical-align: top;\n",
              "    }\n",
              "\n",
              "    .dataframe thead th {\n",
              "        text-align: right;\n",
              "    }\n",
              "</style>\n",
              "<table border=\"1\" class=\"dataframe\">\n",
              "  <thead>\n",
              "    <tr style=\"text-align: right;\">\n",
              "      <th></th>\n",
              "      <th>DAY</th>\n",
              "      <th>MONTH</th>\n",
              "      <th>YEAR</th>\n",
              "      <th>HOUR</th>\n",
              "      <th>MINUTE</th>\n",
              "      <th>SECOND</th>\n",
              "      <th>parsed</th>\n",
              "      <th>formatted_date</th>\n",
              "    </tr>\n",
              "  </thead>\n",
              "  <tbody>\n",
              "    <tr>\n",
              "      <th>0</th>\n",
              "      <td>10.0</td>\n",
              "      <td>3.0</td>\n",
              "      <td>2004.0</td>\n",
              "      <td>18.0</td>\n",
              "      <td>0.0</td>\n",
              "      <td>0.0</td>\n",
              "      <td>2004-03-10 18:00:00</td>\n",
              "      <td>10 Mar 2004, 06.00.00 PM</td>\n",
              "    </tr>\n",
              "    <tr>\n",
              "      <th>1</th>\n",
              "      <td>10.0</td>\n",
              "      <td>3.0</td>\n",
              "      <td>2004.0</td>\n",
              "      <td>19.0</td>\n",
              "      <td>0.0</td>\n",
              "      <td>0.0</td>\n",
              "      <td>2004-03-10 19:00:00</td>\n",
              "      <td>10 Mar 2004, 07.00.00 PM</td>\n",
              "    </tr>\n",
              "    <tr>\n",
              "      <th>2</th>\n",
              "      <td>10.0</td>\n",
              "      <td>3.0</td>\n",
              "      <td>2004.0</td>\n",
              "      <td>20.0</td>\n",
              "      <td>0.0</td>\n",
              "      <td>0.0</td>\n",
              "      <td>2004-03-10 20:00:00</td>\n",
              "      <td>10 Mar 2004, 08.00.00 PM</td>\n",
              "    </tr>\n",
              "    <tr>\n",
              "      <th>3</th>\n",
              "      <td>10.0</td>\n",
              "      <td>3.0</td>\n",
              "      <td>2004.0</td>\n",
              "      <td>21.0</td>\n",
              "      <td>0.0</td>\n",
              "      <td>0.0</td>\n",
              "      <td>2004-03-10 21:00:00</td>\n",
              "      <td>10 Mar 2004, 09.00.00 PM</td>\n",
              "    </tr>\n",
              "    <tr>\n",
              "      <th>4</th>\n",
              "      <td>10.0</td>\n",
              "      <td>3.0</td>\n",
              "      <td>2004.0</td>\n",
              "      <td>22.0</td>\n",
              "      <td>0.0</td>\n",
              "      <td>0.0</td>\n",
              "      <td>2004-03-10 22:00:00</td>\n",
              "      <td>10 Mar 2004, 10.00.00 PM</td>\n",
              "    </tr>\n",
              "  </tbody>\n",
              "</table>\n",
              "</div>"
            ],
            "text/plain": [
              "    DAY  MONTH    YEAR  ...  SECOND              parsed            formatted_date\n",
              "0  10.0    3.0  2004.0  ...     0.0 2004-03-10 18:00:00  10 Mar 2004, 06.00.00 PM\n",
              "1  10.0    3.0  2004.0  ...     0.0 2004-03-10 19:00:00  10 Mar 2004, 07.00.00 PM\n",
              "2  10.0    3.0  2004.0  ...     0.0 2004-03-10 20:00:00  10 Mar 2004, 08.00.00 PM\n",
              "3  10.0    3.0  2004.0  ...     0.0 2004-03-10 21:00:00  10 Mar 2004, 09.00.00 PM\n",
              "4  10.0    3.0  2004.0  ...     0.0 2004-03-10 22:00:00  10 Mar 2004, 10.00.00 PM\n",
              "\n",
              "[5 rows x 8 columns]"
            ]
          },
          "metadata": {
            "tags": []
          },
          "execution_count": 25
        }
      ]
    },
    {
      "cell_type": "markdown",
      "metadata": {
        "id": "3fdqjEgQYlHC"
      },
      "source": [
        "## Landslide Dataset"
      ]
    },
    {
      "cell_type": "code",
      "metadata": {
        "colab": {
          "base_uri": "https://localhost:8080/",
          "height": 204
        },
        "id": "IiYqBpEyYoN6",
        "outputId": "a132df02-e5db-4f7a-9c4d-2ab76321ffd0"
      },
      "source": [
        "url = 'https://raw.githubusercontent.com/RajkumarGalaxy/dataset/master/TimeSeries/landslides_data.csv'\n",
        "# load limited features only - for better visual clarity\n",
        "landslides = pd.read_csv(url).loc[:,['date', 'country_code', 'state/province', 'hazard_type']]\n",
        "landslides.head()"
      ],
      "execution_count": 47,
      "outputs": [
        {
          "output_type": "execute_result",
          "data": {
            "text/html": [
              "<div>\n",
              "<style scoped>\n",
              "    .dataframe tbody tr th:only-of-type {\n",
              "        vertical-align: middle;\n",
              "    }\n",
              "\n",
              "    .dataframe tbody tr th {\n",
              "        vertical-align: top;\n",
              "    }\n",
              "\n",
              "    .dataframe thead th {\n",
              "        text-align: right;\n",
              "    }\n",
              "</style>\n",
              "<table border=\"1\" class=\"dataframe\">\n",
              "  <thead>\n",
              "    <tr style=\"text-align: right;\">\n",
              "      <th></th>\n",
              "      <th>date</th>\n",
              "      <th>country_code</th>\n",
              "      <th>state/province</th>\n",
              "      <th>hazard_type</th>\n",
              "    </tr>\n",
              "  </thead>\n",
              "  <tbody>\n",
              "    <tr>\n",
              "      <th>0</th>\n",
              "      <td>03-02-2007</td>\n",
              "      <td>US</td>\n",
              "      <td>Virginia</td>\n",
              "      <td>Landslide</td>\n",
              "    </tr>\n",
              "    <tr>\n",
              "      <th>1</th>\n",
              "      <td>3/22/07</td>\n",
              "      <td>US</td>\n",
              "      <td>Ohio</td>\n",
              "      <td>Landslide</td>\n",
              "    </tr>\n",
              "    <tr>\n",
              "      <th>2</th>\n",
              "      <td>04-06-2007</td>\n",
              "      <td>US</td>\n",
              "      <td>Pennsylvania</td>\n",
              "      <td>Landslide</td>\n",
              "    </tr>\n",
              "    <tr>\n",
              "      <th>3</th>\n",
              "      <td>4/14/07</td>\n",
              "      <td>CA</td>\n",
              "      <td>Quebec</td>\n",
              "      <td>Landslide</td>\n",
              "    </tr>\n",
              "    <tr>\n",
              "      <th>4</th>\n",
              "      <td>4/15/07</td>\n",
              "      <td>US</td>\n",
              "      <td>Kentucky</td>\n",
              "      <td>Landslide</td>\n",
              "    </tr>\n",
              "  </tbody>\n",
              "</table>\n",
              "</div>"
            ],
            "text/plain": [
              "         date country_code state/province hazard_type\n",
              "0  03-02-2007           US       Virginia   Landslide\n",
              "1     3/22/07           US           Ohio   Landslide\n",
              "2  04-06-2007           US   Pennsylvania   Landslide\n",
              "3     4/14/07           CA         Quebec   Landslide\n",
              "4     4/15/07           US       Kentucky   Landslide"
            ]
          },
          "metadata": {
            "tags": []
          },
          "execution_count": 47
        }
      ]
    },
    {
      "cell_type": "code",
      "metadata": {
        "colab": {
          "base_uri": "https://localhost:8080/"
        },
        "id": "2dcpJ-gFa56q",
        "outputId": "a14a850f-4e6d-44d9-e9b9-5940d201ebc5"
      },
      "source": [
        "length = landslides['date'].str.len()\n",
        "length.value_counts()"
      ],
      "execution_count": 48,
      "outputs": [
        {
          "output_type": "execute_result",
          "data": {
            "text/plain": [
              "7.0     818\n",
              "10.0    649\n",
              "8.0     219\n",
              "16.0      3\n",
              "17.0      1\n",
              "Name: date, dtype: int64"
            ]
          },
          "metadata": {
            "tags": []
          },
          "execution_count": 48
        }
      ]
    },
    {
      "cell_type": "code",
      "metadata": {
        "colab": {
          "base_uri": "https://localhost:8080/",
          "height": 204
        },
        "id": "ALb-0LL_b3c7",
        "outputId": "7e5c3f98-d3f8-4244-ab84-0f5a13629929"
      },
      "source": [
        "ind_7 = np.where([length==7])[1][0]\n",
        "ind_8 = np.where([length==8])[1][0]\n",
        "ind_10 = np.where([length==10])[1][0]\n",
        "ind_16 = np.where([length==16])[1][0]\n",
        "ind_17 = np.where([length==17])[1][0]\n",
        "\n",
        "# load one example row for each date length\n",
        "landslides.loc[[ind_7,ind_8,ind_10,ind_16,ind_17]]"
      ],
      "execution_count": 49,
      "outputs": [
        {
          "output_type": "execute_result",
          "data": {
            "text/html": [
              "<div>\n",
              "<style scoped>\n",
              "    .dataframe tbody tr th:only-of-type {\n",
              "        vertical-align: middle;\n",
              "    }\n",
              "\n",
              "    .dataframe tbody tr th {\n",
              "        vertical-align: top;\n",
              "    }\n",
              "\n",
              "    .dataframe thead th {\n",
              "        text-align: right;\n",
              "    }\n",
              "</style>\n",
              "<table border=\"1\" class=\"dataframe\">\n",
              "  <thead>\n",
              "    <tr style=\"text-align: right;\">\n",
              "      <th></th>\n",
              "      <th>date</th>\n",
              "      <th>country_code</th>\n",
              "      <th>state/province</th>\n",
              "      <th>hazard_type</th>\n",
              "    </tr>\n",
              "  </thead>\n",
              "  <tbody>\n",
              "    <tr>\n",
              "      <th>1</th>\n",
              "      <td>3/22/07</td>\n",
              "      <td>US</td>\n",
              "      <td>Ohio</td>\n",
              "      <td>Landslide</td>\n",
              "    </tr>\n",
              "    <tr>\n",
              "      <th>48</th>\n",
              "      <td>10/13/07</td>\n",
              "      <td>CO</td>\n",
              "      <td>Cauca</td>\n",
              "      <td>Landslide</td>\n",
              "    </tr>\n",
              "    <tr>\n",
              "      <th>0</th>\n",
              "      <td>03-02-2007</td>\n",
              "      <td>US</td>\n",
              "      <td>Virginia</td>\n",
              "      <td>Landslide</td>\n",
              "    </tr>\n",
              "    <tr>\n",
              "      <th>343</th>\n",
              "      <td>5/14/10 05:00:00</td>\n",
              "      <td>US</td>\n",
              "      <td>Missouri</td>\n",
              "      <td>Landslide</td>\n",
              "    </tr>\n",
              "    <tr>\n",
              "      <th>826</th>\n",
              "      <td>10/25/11 09:30:00</td>\n",
              "      <td>TT</td>\n",
              "      <td>San Juan/Laventille</td>\n",
              "      <td>Landslide</td>\n",
              "    </tr>\n",
              "  </tbody>\n",
              "</table>\n",
              "</div>"
            ],
            "text/plain": [
              "                  date country_code       state/province hazard_type\n",
              "1              3/22/07           US                 Ohio   Landslide\n",
              "48            10/13/07           CO                Cauca   Landslide\n",
              "0           03-02-2007           US             Virginia   Landslide\n",
              "343   5/14/10 05:00:00           US             Missouri   Landslide\n",
              "826  10/25/11 09:30:00           TT  San Juan/Laventille   Landslide"
            ]
          },
          "metadata": {
            "tags": []
          },
          "execution_count": 49
        }
      ]
    },
    {
      "cell_type": "code",
      "metadata": {
        "id": "YzCSU_SOew4h"
      },
      "source": [
        "drop_ind = np.where([length>=16])[1]\n",
        "landslides.drop(index=drop_ind, inplace=True)\n"
      ],
      "execution_count": 50,
      "outputs": []
    },
    {
      "cell_type": "code",
      "metadata": {
        "colab": {
          "base_uri": "https://localhost:8080/"
        },
        "id": "XgYB38D-fstq",
        "outputId": "aa490ff0-caee-4bab-b43d-e8a23e240ba0"
      },
      "source": [
        "length = landslides['date'].str.len()\n",
        "length.value_counts()"
      ],
      "execution_count": 51,
      "outputs": [
        {
          "output_type": "execute_result",
          "data": {
            "text/plain": [
              "7.0     818\n",
              "10.0    649\n",
              "8.0     219\n",
              "Name: date, dtype: int64"
            ]
          },
          "metadata": {
            "tags": []
          },
          "execution_count": 51
        }
      ]
    },
    {
      "cell_type": "code",
      "metadata": {
        "colab": {
          "base_uri": "https://localhost:8080/",
          "height": 204
        },
        "id": "P9eNPfLcgJg1",
        "outputId": "284d2521-35cc-40a5-9cad-fcdae741f01e"
      },
      "source": [
        "landslides['parsed_date'] = pd.to_datetime(landslides['date'], infer_datetime_format=True)\n",
        "landslides.head()"
      ],
      "execution_count": 52,
      "outputs": [
        {
          "output_type": "execute_result",
          "data": {
            "text/html": [
              "<div>\n",
              "<style scoped>\n",
              "    .dataframe tbody tr th:only-of-type {\n",
              "        vertical-align: middle;\n",
              "    }\n",
              "\n",
              "    .dataframe tbody tr th {\n",
              "        vertical-align: top;\n",
              "    }\n",
              "\n",
              "    .dataframe thead th {\n",
              "        text-align: right;\n",
              "    }\n",
              "</style>\n",
              "<table border=\"1\" class=\"dataframe\">\n",
              "  <thead>\n",
              "    <tr style=\"text-align: right;\">\n",
              "      <th></th>\n",
              "      <th>date</th>\n",
              "      <th>country_code</th>\n",
              "      <th>state/province</th>\n",
              "      <th>hazard_type</th>\n",
              "      <th>parsed_date</th>\n",
              "    </tr>\n",
              "  </thead>\n",
              "  <tbody>\n",
              "    <tr>\n",
              "      <th>0</th>\n",
              "      <td>03-02-2007</td>\n",
              "      <td>US</td>\n",
              "      <td>Virginia</td>\n",
              "      <td>Landslide</td>\n",
              "      <td>2007-03-02</td>\n",
              "    </tr>\n",
              "    <tr>\n",
              "      <th>1</th>\n",
              "      <td>3/22/07</td>\n",
              "      <td>US</td>\n",
              "      <td>Ohio</td>\n",
              "      <td>Landslide</td>\n",
              "      <td>2007-03-22</td>\n",
              "    </tr>\n",
              "    <tr>\n",
              "      <th>2</th>\n",
              "      <td>04-06-2007</td>\n",
              "      <td>US</td>\n",
              "      <td>Pennsylvania</td>\n",
              "      <td>Landslide</td>\n",
              "      <td>2007-04-06</td>\n",
              "    </tr>\n",
              "    <tr>\n",
              "      <th>3</th>\n",
              "      <td>4/14/07</td>\n",
              "      <td>CA</td>\n",
              "      <td>Quebec</td>\n",
              "      <td>Landslide</td>\n",
              "      <td>2007-04-14</td>\n",
              "    </tr>\n",
              "    <tr>\n",
              "      <th>4</th>\n",
              "      <td>4/15/07</td>\n",
              "      <td>US</td>\n",
              "      <td>Kentucky</td>\n",
              "      <td>Landslide</td>\n",
              "      <td>2007-04-15</td>\n",
              "    </tr>\n",
              "  </tbody>\n",
              "</table>\n",
              "</div>"
            ],
            "text/plain": [
              "         date country_code state/province hazard_type parsed_date\n",
              "0  03-02-2007           US       Virginia   Landslide  2007-03-02\n",
              "1     3/22/07           US           Ohio   Landslide  2007-03-22\n",
              "2  04-06-2007           US   Pennsylvania   Landslide  2007-04-06\n",
              "3     4/14/07           CA         Quebec   Landslide  2007-04-14\n",
              "4     4/15/07           US       Kentucky   Landslide  2007-04-15"
            ]
          },
          "metadata": {
            "tags": []
          },
          "execution_count": 52
        }
      ]
    },
    {
      "cell_type": "code",
      "metadata": {
        "colab": {
          "base_uri": "https://localhost:8080/",
          "height": 204
        },
        "id": "31EIHKk-iA1R",
        "outputId": "806b1fed-08cd-4693-d426-66b6381d9f9f"
      },
      "source": [
        "landslides.drop(columns=['date'], inplace=True)\n",
        "landslides.head()"
      ],
      "execution_count": 54,
      "outputs": [
        {
          "output_type": "execute_result",
          "data": {
            "text/html": [
              "<div>\n",
              "<style scoped>\n",
              "    .dataframe tbody tr th:only-of-type {\n",
              "        vertical-align: middle;\n",
              "    }\n",
              "\n",
              "    .dataframe tbody tr th {\n",
              "        vertical-align: top;\n",
              "    }\n",
              "\n",
              "    .dataframe thead th {\n",
              "        text-align: right;\n",
              "    }\n",
              "</style>\n",
              "<table border=\"1\" class=\"dataframe\">\n",
              "  <thead>\n",
              "    <tr style=\"text-align: right;\">\n",
              "      <th></th>\n",
              "      <th>country_code</th>\n",
              "      <th>state/province</th>\n",
              "      <th>hazard_type</th>\n",
              "      <th>parsed_date</th>\n",
              "    </tr>\n",
              "  </thead>\n",
              "  <tbody>\n",
              "    <tr>\n",
              "      <th>0</th>\n",
              "      <td>US</td>\n",
              "      <td>Virginia</td>\n",
              "      <td>Landslide</td>\n",
              "      <td>2007-03-02</td>\n",
              "    </tr>\n",
              "    <tr>\n",
              "      <th>1</th>\n",
              "      <td>US</td>\n",
              "      <td>Ohio</td>\n",
              "      <td>Landslide</td>\n",
              "      <td>2007-03-22</td>\n",
              "    </tr>\n",
              "    <tr>\n",
              "      <th>2</th>\n",
              "      <td>US</td>\n",
              "      <td>Pennsylvania</td>\n",
              "      <td>Landslide</td>\n",
              "      <td>2007-04-06</td>\n",
              "    </tr>\n",
              "    <tr>\n",
              "      <th>3</th>\n",
              "      <td>CA</td>\n",
              "      <td>Quebec</td>\n",
              "      <td>Landslide</td>\n",
              "      <td>2007-04-14</td>\n",
              "    </tr>\n",
              "    <tr>\n",
              "      <th>4</th>\n",
              "      <td>US</td>\n",
              "      <td>Kentucky</td>\n",
              "      <td>Landslide</td>\n",
              "      <td>2007-04-15</td>\n",
              "    </tr>\n",
              "  </tbody>\n",
              "</table>\n",
              "</div>"
            ],
            "text/plain": [
              "  country_code state/province hazard_type parsed_date\n",
              "0           US       Virginia   Landslide  2007-03-02\n",
              "1           US           Ohio   Landslide  2007-03-22\n",
              "2           US   Pennsylvania   Landslide  2007-04-06\n",
              "3           CA         Quebec   Landslide  2007-04-14\n",
              "4           US       Kentucky   Landslide  2007-04-15"
            ]
          },
          "metadata": {
            "tags": []
          },
          "execution_count": 54
        }
      ]
    },
    {
      "cell_type": "code",
      "metadata": {
        "colab": {
          "base_uri": "https://localhost:8080/",
          "height": 304
        },
        "id": "9xmnkCO9iXAH",
        "outputId": "6c6caf52-999d-4993-ebc9-40d203c0d0af"
      },
      "source": [
        "plt.figure(figsize=(8,5))\n",
        "landslides['parsed_date'].value_counts().sort_values().plot.line()\n",
        "plt.show()"
      ],
      "execution_count": 57,
      "outputs": [
        {
          "output_type": "display_data",
          "data": {
            "image/png": "[encoded data removed]",
            "text/plain": [
              "<Figure size 576x360 with 1 Axes>"
            ]
          },
          "metadata": {
            "tags": [],
            "needs_background": "light"
          }
        }
      ]
    },
    {
      "cell_type": "code",
      "metadata": {
        "colab": {
          "base_uri": "https://localhost:8080/",
          "height": 415
        },
        "id": "AeBUJOVajPIv",
        "outputId": "3f6cad18-399d-408a-b636-9ad14f622747"
      },
      "source": [
        "plt.figure(figsize=(8,5))\n",
        "landslides['parsed_date'].value_counts().resample('Y').sum().plot.bar(color='g')\n",
        "plt.show()"
      ],
      "execution_count": 66,
      "outputs": [
        {
          "output_type": "display_data",
          "data": {
            "image/png": "[encoded data removed]",
            "text/plain": [
              "<Figure size 576x360 with 1 Axes>"
            ]
          },
          "metadata": {
            "tags": [],
            "needs_background": "light"
          }
        }
      ]
    },
    {
      "cell_type": "code",
      "metadata": {
        "colab": {
          "base_uri": "https://localhost:8080/",
          "height": 418
        },
        "id": "DsjjrV2zkdoh",
        "outputId": "31e544bf-0189-447b-d4d8-accf097a668b"
      },
      "source": [
        "plt.figure(figsize=(8,5))\n",
        "landslides['parsed_date'].value_counts().resample('Y').mean().plot.bar(color='r')\n",
        "plt.show()"
      ],
      "execution_count": 68,
      "outputs": [
        {
          "output_type": "display_data",
          "data": {
            "image/png": "[encoded data removed]",
            "text/plain": [
              "<Figure size 576x360 with 1 Axes>"
            ]
          },
          "metadata": {
            "tags": [],
            "needs_background": "light"
          }
        }
      ]
    },
    {
      "cell_type": "code",
      "metadata": {
        "colab": {
          "base_uri": "https://localhost:8080/",
          "height": 320
        },
        "id": "oXg8UmD4mNME",
        "outputId": "56f7e2ae-f088-4b41-ac7d-7b381ef19f81"
      },
      "source": [
        "plt.figure(figsize=(8,5))\n",
        "landslides['parsed_date'].value_counts().resample('M').sum().plot.area(color='b')\n",
        "plt.show()"
      ],
      "execution_count": 74,
      "outputs": [
        {
          "output_type": "display_data",
          "data": {
            "image/png": "[encoded data removed]",
            "text/plain": [
              "<Figure size 576x360 with 1 Axes>"
            ]
          },
          "metadata": {
            "tags": [],
            "needs_background": "light"
          }
        }
      ]
    },
    {
      "cell_type": "markdown",
      "metadata": {
        "id": "86Rkex7So4aS"
      },
      "source": [
        "### Thank you for your time!"
      ]
    }
  ]
}