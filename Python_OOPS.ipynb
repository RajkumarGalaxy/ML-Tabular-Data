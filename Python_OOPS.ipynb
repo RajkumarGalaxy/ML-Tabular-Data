{
  "nbformat": 4,
  "nbformat_minor": 0,
  "metadata": {
    "colab": {
      "name": "Python OOPS.ipynb",
      "provenance": [],
      "collapsed_sections": [],
      "authorship_tag": "ABX9TyODWuAdctMN3QKYqAzl6f5U",
      "include_colab_link": true
    },
    "kernelspec": {
      "name": "python3",
      "display_name": "Python 3"
    },
    "language_info": {
      "name": "python"
    }
  },
  "cells": [
    {
      "cell_type": "markdown",
      "metadata": {
        "id": "view-in-github",
        "colab_type": "text"
      },
      "source": [
        "<a href=\"https://colab.research.google.com/github/RajkumarGalaxy/StructuredData/blob/master/Python_OOPS.ipynb\" target=\"_parent\"><img src=\"https://colab.research.google.com/assets/colab-badge.svg\" alt=\"Open In Colab\"/></a>"
      ]
    },
    {
      "cell_type": "markdown",
      "metadata": {
        "id": "XCTtgMu50w0E"
      },
      "source": [
        "## Welcome to my notebook on Python OOPS"
      ]
    },
    {
      "cell_type": "code",
      "metadata": {
        "id": "x82QtnCa0s78"
      },
      "source": [
        "class Poetry():\n",
        "  def __init__(self, title, poems_count, author, price):\n",
        "    self.title = title\n",
        "    self.poems_count = poems_count\n",
        "    self.author = author\n",
        "    self.price = price"
      ],
      "execution_count": 1,
      "outputs": []
    },
    {
      "cell_type": "code",
      "metadata": {
        "id": "FxFq4eyI2FY7"
      },
      "source": [
        "poem_1 = Poetry('Leaves of Grass', 383, 'Walt Whitman', 600)\n",
        "poem_2 = Poetry('Milk and Honey', 179, 'Rupi Kaur', 320)\n",
        "poem_3 = Poetry('Life on Mars', 33, 'Tracy K. Smith', 100)"
      ],
      "execution_count": 2,
      "outputs": []
    },
    {
      "cell_type": "code",
      "metadata": {
        "colab": {
          "base_uri": "https://localhost:8080/"
        },
        "id": "gPVxZUG4BSVl",
        "outputId": "e87d21f7-7959-492e-cfdb-f2664869a03e"
      },
      "source": [
        "print(poem_1)\n",
        "print(poem_2)\n",
        "print(poem_3)"
      ],
      "execution_count": 3,
      "outputs": [
        {
          "output_type": "stream",
          "text": [
            "<__main__.Poetry object at 0x7f868fd8a2d0>\n",
            "<__main__.Poetry object at 0x7f868fd8a390>\n",
            "<__main__.Poetry object at 0x7f868fd8a410>\n"
          ],
          "name": "stdout"
        }
      ]
    },
    {
      "cell_type": "code",
      "metadata": {
        "id": "08ZUVr8SCp3P"
      },
      "source": [
        "class Poetry():\n",
        "  def __init__(self, title, poems_count, author, price):\n",
        "    self.title = title\n",
        "    self.poems_count = poems_count\n",
        "    self.author = author\n",
        "    self.price = price\n",
        "\n",
        "  def __repr__(self):\n",
        "    return f'Poetry: {self.title} by {self.author}, price {self.price}'"
      ],
      "execution_count": 4,
      "outputs": []
    },
    {
      "cell_type": "code",
      "metadata": {
        "id": "2RU3KHirDPRW"
      },
      "source": [
        "poem_1 = Poetry('Leaves of Grass', 383, 'Walt Whitman', 600)\n",
        "poem_2 = Poetry('Milk and Honey', 179, 'Rupi Kaur', 320)\n",
        "poem_3 = Poetry('Life on Mars', 33, 'Tracy K. Smith', 100)"
      ],
      "execution_count": 5,
      "outputs": []
    },
    {
      "cell_type": "code",
      "metadata": {
        "colab": {
          "base_uri": "https://localhost:8080/"
        },
        "id": "VA6QsCwjDQCT",
        "outputId": "201c2a8f-9c5f-4ab6-e429-565c23a3bd19"
      },
      "source": [
        "print(poem_1)\n",
        "print(poem_2)\n",
        "print(poem_3)"
      ],
      "execution_count": 6,
      "outputs": [
        {
          "output_type": "stream",
          "text": [
            "Poetry: Leaves of Grass by Walt Whitman, price 600\n",
            "Poetry: Milk and Honey by Rupi Kaur, price 320\n",
            "Poetry: Life on Mars by Tracy K. Smith, price 100\n"
          ],
          "name": "stdout"
        }
      ]
    },
    {
      "cell_type": "markdown",
      "metadata": {
        "id": "C7OEThZUHqXy"
      },
      "source": [
        "# Encapsulation"
      ]
    },
    {
      "cell_type": "code",
      "metadata": {
        "id": "m6R05pqkHp7G"
      },
      "source": [
        "class Poetry():\n",
        "  def __init__(self, title, poems_count, author, price):\n",
        "    self.title = title\n",
        "    self.poems_count = poems_count\n",
        "    self.author = author\n",
        "    self.price = price\n",
        "    self.__discount = 0.20 \n",
        "\n",
        "  def __repr__(self):\n",
        "    return f'Poetry: {self.title} by {self.author}, price {self.price}'"
      ],
      "execution_count": 7,
      "outputs": []
    },
    {
      "cell_type": "code",
      "metadata": {
        "colab": {
          "base_uri": "https://localhost:8080/",
          "height": 248
        },
        "id": "heWAnBS2Kn5-",
        "outputId": "48138954-b594-4ef1-fc38-4f37babc1935"
      },
      "source": [
        "poem_1 = Poetry('Leaves of Grass', 383, 'Walt Whitman', 600)\n",
        "print(poem_1.author)\n",
        "print(poem_1.title)\n",
        "print(poem_1.price)\n",
        "print(poem_1.__discount)"
      ],
      "execution_count": 8,
      "outputs": [
        {
          "output_type": "stream",
          "text": [
            "Walt Whitman\n",
            "Leaves of Grass\n",
            "600\n"
          ],
          "name": "stdout"
        },
        {
          "output_type": "error",
          "ename": "AttributeError",
          "evalue": "ignored",
          "traceback": [
            "\u001b[0;31m---------------------------------------------------------------------------\u001b[0m",
            "\u001b[0;31mAttributeError\u001b[0m                            Traceback (most recent call last)",
            "\u001b[0;32m<ipython-input-8-31a35efcd310>\u001b[0m in \u001b[0;36m<module>\u001b[0;34m()\u001b[0m\n\u001b[1;32m      3\u001b[0m \u001b[0mprint\u001b[0m\u001b[0;34m(\u001b[0m\u001b[0mpoem_1\u001b[0m\u001b[0;34m.\u001b[0m\u001b[0mtitle\u001b[0m\u001b[0;34m)\u001b[0m\u001b[0;34m\u001b[0m\u001b[0;34m\u001b[0m\u001b[0m\n\u001b[1;32m      4\u001b[0m \u001b[0mprint\u001b[0m\u001b[0;34m(\u001b[0m\u001b[0mpoem_1\u001b[0m\u001b[0;34m.\u001b[0m\u001b[0mprice\u001b[0m\u001b[0;34m)\u001b[0m\u001b[0;34m\u001b[0m\u001b[0;34m\u001b[0m\u001b[0m\n\u001b[0;32m----> 5\u001b[0;31m \u001b[0mprint\u001b[0m\u001b[0;34m(\u001b[0m\u001b[0mpoem_1\u001b[0m\u001b[0;34m.\u001b[0m\u001b[0m__discount\u001b[0m\u001b[0;34m)\u001b[0m\u001b[0;34m\u001b[0m\u001b[0;34m\u001b[0m\u001b[0m\n\u001b[0m",
            "\u001b[0;31mAttributeError\u001b[0m: 'Poetry' object has no attribute '__discount'"
          ]
        }
      ]
    },
    {
      "cell_type": "code",
      "metadata": {
        "id": "qdXn9DZxQUQ2"
      },
      "source": [
        "class Poetry():\n",
        "  def __init__(self, title, poems_count, author, price):\n",
        "    self.title = title\n",
        "    self.poems_count = poems_count\n",
        "    self.author = author\n",
        "    self.__price = price\n",
        "    self.__discount = None\n",
        "\n",
        "  def set_discount(self, value):\n",
        "    self.__discount = value\n",
        "\n",
        "  def get_price(self):\n",
        "    if self.__discount is None:\n",
        "      return self.__price\n",
        "    else:\n",
        "      return self.__price * (1 - self.__discount)\n",
        "  \n",
        "  def __repr__(self):\n",
        "    return f'Poetry: {self.title} by {self.author}, price {self.get_price()}'"
      ],
      "execution_count": 9,
      "outputs": []
    },
    {
      "cell_type": "code",
      "metadata": {
        "colab": {
          "base_uri": "https://localhost:8080/"
        },
        "id": "FkNdUo5ST5iz",
        "outputId": "46d5ce51-d726-4be9-e657-ee4e807d0503"
      },
      "source": [
        "retail_purchase = Poetry('Leaves of Grass', 383, 'Walt Whitman', 600)\n",
        "bulk_purchase = Poetry('Leaves of Grass', 383, 'Walt Whitman', 600)\n",
        "\n",
        "# assign 30% discount to bulk purchase\n",
        "bulk_purchase.set_discount(0.30)\n",
        "\n",
        "print(retail_purchase.get_price())\n",
        "print(bulk_purchase.get_price())\n",
        "\n",
        "print(retail_purchase)\n",
        "print(bulk_purchase)"
      ],
      "execution_count": 10,
      "outputs": [
        {
          "output_type": "stream",
          "text": [
            "600\n",
            "420.0\n",
            "Poetry: Leaves of Grass by Walt Whitman, price 600\n",
            "Poetry: Leaves of Grass by Walt Whitman, price 420.0\n"
          ],
          "name": "stdout"
        }
      ]
    },
    {
      "cell_type": "markdown",
      "metadata": {
        "id": "lKaBGmjIQTBL"
      },
      "source": [
        "# Inheritance"
      ]
    },
    {
      "cell_type": "code",
      "metadata": {
        "id": "mY2IbeHxZrkX"
      },
      "source": [
        "class Book():\n",
        "  def __init__(self, title, author, price):\n",
        "    self.title = title\n",
        "    self.author = author\n",
        "    self.__price = price\n",
        "    self.__discount = None\n",
        "\n",
        "  def set_discount(self, value):\n",
        "    self.__discount = value\n",
        "\n",
        "  def get_price(self):\n",
        "    if self.__discount is None:\n",
        "      return self.__price\n",
        "    else:\n",
        "      return self.__price * (1 - self.__discount)\n",
        " \n",
        "class Poetry(Book):\n",
        "  def __init__(self, title, poems_count, author, price):\n",
        "    super().__init__(title, author, price)\n",
        "    self.poems_count = poems_count\n",
        "    \n",
        "  def __repr__(self):\n",
        "    return f'Poetry: {self.title} by {self.author}, price {self.get_price()}'\n",
        "\n",
        "class Play(Book):\n",
        "  def __init__(self, title, genre, author, price):\n",
        "    super().__init__(title, author, price)\n",
        "    self.genre = genre\n",
        "    \n",
        "  def __repr__(self):\n",
        "    return f'{self.genre} Play: {self.title} by {self.author}, price {self.get_price()}'\n",
        "\n",
        "class Novel(Book):\n",
        "  def __init__(self, title, pages, author, price):\n",
        "    super().__init__(title, author, price)\n",
        "    self.pages = pages\n",
        "    \n",
        "  def __repr__(self):\n",
        "    return f'Novel: {self.title} by {self.author}, price {self.get_price()}'"
      ],
      "execution_count": 11,
      "outputs": []
    },
    {
      "cell_type": "code",
      "metadata": {
        "colab": {
          "base_uri": "https://localhost:8080/"
        },
        "id": "XMc0CvcZcDXF",
        "outputId": "4e15a1b5-eb07-41d3-ca49-411a0c60ed9e"
      },
      "source": [
        "poem_1 = Poetry('Leaves of Grass', 383, 'Walt Whitman', 600)\n",
        "print(poem_1)\n",
        "poem_1.set_discount(0.15)\n",
        "print(poem_1)"
      ],
      "execution_count": 12,
      "outputs": [
        {
          "output_type": "stream",
          "text": [
            "Poetry: Leaves of Grass by Walt Whitman, price 600\n",
            "Poetry: Leaves of Grass by Walt Whitman, price 510.0\n"
          ],
          "name": "stdout"
        }
      ]
    },
    {
      "cell_type": "code",
      "metadata": {
        "colab": {
          "base_uri": "https://localhost:8080/"
        },
        "id": "GS2i8--_ePwx",
        "outputId": "fafccb20-0402-4ee9-c92e-fbb4a1fc309c"
      },
      "source": [
        "play_1 = Play('Romeo and Juliet', 'Tragedy', 'William Shakespeare', 160)\n",
        "novel_1 = Novel('To kill a Mockingbird', 281, 'Harper Lee', 310)\n",
        "\n",
        "print(play_1)\n",
        "print(novel_1)"
      ],
      "execution_count": 13,
      "outputs": [
        {
          "output_type": "stream",
          "text": [
            "Tragedy Play: Romeo and Juliet by William Shakespeare, price 160\n",
            "Novel: To kill a Mockingbird by Harper Lee, price 310\n"
          ],
          "name": "stdout"
        }
      ]
    },
    {
      "cell_type": "markdown",
      "metadata": {
        "id": "ifSozp3UfBWI"
      },
      "source": [
        "# Polymorphism"
      ]
    },
    {
      "cell_type": "code",
      "metadata": {
        "id": "ouSpo15ZjxjU"
      },
      "source": [
        "class Book():\n",
        "  def __init__(self, title, author, price):\n",
        "    self.title = title\n",
        "    self.author = author\n",
        "    self.__price = price\n",
        "    self.__discount = None\n",
        "\n",
        "  def set_discount(self, value):\n",
        "    self.__discount = value\n",
        "\n",
        "  def get_price(self):\n",
        "    if self.__discount is None:\n",
        "      return self.__price\n",
        "    else:\n",
        "      return self.__price * (1 - self.__discount)\n",
        "\n",
        "  def __repr__(self):\n",
        "    return f'{self.title} by {self.author}, price {self.get_price()}'\n",
        " \n",
        "class Poetry(Book):\n",
        "  def __init__(self, title, poems_count, author, price):\n",
        "    super().__init__(title, author, price)\n",
        "    self.poems_count = poems_count\n",
        "    \n",
        "class Play(Book):\n",
        "  def __init__(self, title, genre, author, price):\n",
        "    super().__init__(title, author, price)\n",
        "    self.genre = genre\n",
        "    \n",
        "  def __repr__(self):\n",
        "    return f'{self.genre} Play: {self.title} by {self.author}, price {self.get_price()}'\n",
        "\n",
        "class Novel(Book):\n",
        "  def __init__(self, title, pages, author, price):\n",
        "    super().__init__(title, author, price)\n",
        "    self.pages = pages"
      ],
      "execution_count": 14,
      "outputs": []
    },
    {
      "cell_type": "code",
      "metadata": {
        "colab": {
          "base_uri": "https://localhost:8080/"
        },
        "id": "v3Nu-oQGfFcb",
        "outputId": "dbd8243a-cae1-4f7a-e5bd-054e77e3b617"
      },
      "source": [
        "poem_2 = Poetry('Milk and Honey', 179, 'Rupi Kaur', 320)\n",
        "play_2 = Play('An Ideal Husband', 'Comedy', 'Oscar Wilde', 240)\n",
        "novel_2 = Novel('The Alchemist', 161, 'Paulo Coelho', 180)\n",
        "\n",
        "print(poem_2)\n",
        "print(play_2)\n",
        "print(novel_2)"
      ],
      "execution_count": 15,
      "outputs": [
        {
          "output_type": "stream",
          "text": [
            "Milk and Honey by Rupi Kaur, price 320\n",
            "Comedy Play: An Ideal Husband by Oscar Wilde, price 240\n",
            "The Alchemist by Paulo Coelho, price 180\n"
          ],
          "name": "stdout"
        }
      ]
    },
    {
      "cell_type": "markdown",
      "metadata": {
        "id": "HxB8yO9sBhJV"
      },
      "source": [
        "# Abstraction"
      ]
    },
    {
      "cell_type": "code",
      "metadata": {
        "id": "8A3Jg4GKBjSB"
      },
      "source": [
        "from abc import ABC, abstractmethod\n",
        "\n",
        "class Book(ABC):\n",
        "  def __init__(self, title, author, price):\n",
        "    self.title = title\n",
        "    self.author = author\n",
        "    self.__price = price\n",
        "    self.__discount = None\n",
        "\n",
        "  def set_discount(self, value):\n",
        "    self.__discount = value\n",
        "\n",
        "  def get_price(self):\n",
        "    if self.__discount is None:\n",
        "      return self.__price\n",
        "    else:\n",
        "      return self.__price * (1 - self.__discount)\n",
        "\n",
        "  @abstractmethod\n",
        "  def __repr__(self):\n",
        "    return f'{self.title} by {self.author}, price {self.get_price()}'\n",
        " \n",
        "class Poetry(Book):\n",
        "  def __init__(self, title, poems_count, author, price):\n",
        "    super().__init__(title, author, price)\n",
        "    self.poems_count = poems_count\n",
        "    \n",
        "class Play(Book):\n",
        "  def __init__(self, title, genre, author, price):\n",
        "    super().__init__(title, author, price)\n",
        "    self.genre = genre\n",
        "    \n",
        "  def __repr__(self):\n",
        "    return f'{self.genre} Play: {self.title} by {self.author}, price {self.get_price()}'\n",
        "\n",
        "class Novel(Book):\n",
        "  def __init__(self, title, pages, author, price):\n",
        "    super().__init__(title, author, price)\n",
        "    self.pages = pages"
      ],
      "execution_count": 17,
      "outputs": []
    },
    {
      "cell_type": "code",
      "metadata": {
        "colab": {
          "base_uri": "https://localhost:8080/",
          "height": 180
        },
        "id": "Bt2WYwHNCCRV",
        "outputId": "56788155-7cc4-477a-9d90-d43c063ea159"
      },
      "source": [
        "play_3 = Play('Death of a Salesman', 'Tragedy', 'Arthur Miller', 240)\n",
        "poem_3 = Poetry('Life on Mars', 33, 'Tracy K. Smith', 100)"
      ],
      "execution_count": 20,
      "outputs": [
        {
          "output_type": "error",
          "ename": "TypeError",
          "evalue": "ignored",
          "traceback": [
            "\u001b[0;31m---------------------------------------------------------------------------\u001b[0m",
            "\u001b[0;31mTypeError\u001b[0m                                 Traceback (most recent call last)",
            "\u001b[0;32m<ipython-input-20-0de3b8bcb68a>\u001b[0m in \u001b[0;36m<module>\u001b[0;34m()\u001b[0m\n\u001b[1;32m      1\u001b[0m \u001b[0mplay_3\u001b[0m \u001b[0;34m=\u001b[0m \u001b[0mPlay\u001b[0m\u001b[0;34m(\u001b[0m\u001b[0;34m'Death of a Salesman'\u001b[0m\u001b[0;34m,\u001b[0m \u001b[0;34m'Tragedy'\u001b[0m\u001b[0;34m,\u001b[0m \u001b[0;34m'Arthur Miller'\u001b[0m\u001b[0;34m,\u001b[0m \u001b[0;36m240\u001b[0m\u001b[0;34m)\u001b[0m\u001b[0;34m\u001b[0m\u001b[0;34m\u001b[0m\u001b[0m\n\u001b[0;32m----> 2\u001b[0;31m \u001b[0mpoem_3\u001b[0m \u001b[0;34m=\u001b[0m \u001b[0mPoetry\u001b[0m\u001b[0;34m(\u001b[0m\u001b[0;34m'Life on Mars'\u001b[0m\u001b[0;34m,\u001b[0m \u001b[0;36m33\u001b[0m\u001b[0;34m,\u001b[0m \u001b[0;34m'Tracy K. Smith'\u001b[0m\u001b[0;34m,\u001b[0m \u001b[0;36m100\u001b[0m\u001b[0;34m)\u001b[0m\u001b[0;34m\u001b[0m\u001b[0;34m\u001b[0m\u001b[0m\n\u001b[0m",
            "\u001b[0;31mTypeError\u001b[0m: Can't instantiate abstract class Poetry with abstract methods __repr__"
          ]
        }
      ]
    },
    {
      "cell_type": "code",
      "metadata": {
        "id": "5ypu6GtcEqfg"
      },
      "source": [
        "from abc import ABC, abstractmethod\n",
        "\n",
        "class Book(ABC):\n",
        "  def __init__(self, title, author, price):\n",
        "    self.title = title\n",
        "    self.author = author\n",
        "    self.__price = price\n",
        "    self.__discount = None\n",
        "\n",
        "  def set_discount(self, value):\n",
        "    self.__discount = value\n",
        "\n",
        "  def get_price(self):\n",
        "    if self.__discount is None:\n",
        "      return self.__price\n",
        "    else:\n",
        "      return self.__price * (1 - self.__discount)\n",
        "\n",
        "  @abstractmethod\n",
        "  def __repr__(self):\n",
        "    return f'{self.title} by {self.author}, price {self.get_price()}'\n",
        " \n",
        "class Poetry(Book):\n",
        "  def __init__(self, title, poems_count, author, price):\n",
        "    super().__init__(title, author, price)\n",
        "    self.poems_count = poems_count\n",
        "\n",
        "  def __repr__(self):\n",
        "    return f'Poetry: {self.title} by {self.author}, {self.poems_count} poems, price {self.get_price()}'\n",
        "\n",
        "class Play(Book):\n",
        "  def __init__(self, title, genre, author, price):\n",
        "    super().__init__(title, author, price)\n",
        "    self.genre = genre\n",
        "    \n",
        "  def __repr__(self):\n",
        "    return f'Play: {self.title} by {self.author}, {self.genre} genre, price {self.get_price()}'\n",
        "\n",
        "class Novel(Book):\n",
        "  def __init__(self, title, pages, author, price):\n",
        "    super().__init__(title, author, price)\n",
        "    self.pages = pages\n",
        "      \n",
        "  def __repr__(self):\n",
        "    return f'Novel: {self.title} by {self.author}, {self.pages} pages, price {self.get_price()}'\n"
      ],
      "execution_count": 21,
      "outputs": []
    },
    {
      "cell_type": "code",
      "metadata": {
        "colab": {
          "base_uri": "https://localhost:8080/"
        },
        "id": "SzorIVaMD_WW",
        "outputId": "6dd2ca5d-1efe-40b1-e591-e20ae4e4c45c"
      },
      "source": [
        "poem_3 = Poetry('Life on Mars', 33, 'Tracy K. Smith', 100)\n",
        "play_3 = Play('Death of a Salesman', 'Tragedy', 'Arthur Miller', 240)\n",
        "novel_3 = Novel('Peril at End House', 270, 'Agatha Christie', 210)\n",
        "\n",
        "print(poem_3)\n",
        "print(play_3)\n",
        "print(novel_3)"
      ],
      "execution_count": 22,
      "outputs": [
        {
          "output_type": "stream",
          "text": [
            "Poetry: Life on Mars by Tracy K. Smith, 33 poems, price 100\n",
            "Play: Death of a Salesman by Arthur Miller, Tragedy genre, price 240\n",
            "Novel: Peril at End House by Agatha Christie, 270 pages, price 210\n"
          ],
          "name": "stdout"
        }
      ]
    },
    {
      "cell_type": "markdown",
      "metadata": {
        "id": "hvEli6FkFSm-"
      },
      "source": [
        "## Thank you for your time!\n",
        "#### Note: Prices of the example books used in this notebook are fictional. However, they are absolutely great for reading!!"
      ]
    }
  ]
}