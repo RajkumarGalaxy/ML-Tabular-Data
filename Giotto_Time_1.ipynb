{
  "nbformat": 4,
  "nbformat_minor": 0,
  "metadata": {
    "colab": {
      "name": "Giotto Time 1.ipynb",
      "provenance": [],
      "collapsed_sections": [],
      "authorship_tag": "ABX9TyPpn9abPZTg0lxO38job8m0",
      "include_colab_link": true
    },
    "kernelspec": {
      "name": "python3",
      "display_name": "Python 3"
    },
    "language_info": {
      "name": "python"
    }
  },
  "cells": [
    {
      "cell_type": "markdown",
      "metadata": {
        "id": "view-in-github",
        "colab_type": "text"
      },
      "source": [
        "<a href=\"https://colab.research.google.com/github/RajkumarGalaxy/StructuredData/blob/master/Giotto_Time_1.ipynb\" target=\"_parent\"><img src=\"https://colab.research.google.com/assets/colab-badge.svg\" alt=\"Open In Colab\"/></a>"
      ]
    },
    {
      "cell_type": "markdown",
      "metadata": {
        "id": "TpI3cNYHQ3e-"
      },
      "source": [
        "# GIOTTO-TIME\n",
        "\n",
        "References:\n",
        "\n",
        "https://docs-time.giotto.ai/\n",
        "\n",
        "https://github.com/giotto-ai/giotto-time"
      ]
    },
    {
      "cell_type": "code",
      "metadata": {
        "colab": {
          "base_uri": "https://localhost:8080/"
        },
        "id": "Oj7A6s4EQxWJ",
        "outputId": "986149b1-5a04-4116-8800-e651bbf81403"
      },
      "source": [
        "!pip install giotto-time\n"
      ],
      "execution_count": 2,
      "outputs": [
        {
          "output_type": "stream",
          "text": [
            "Collecting giotto-time\n",
            "\u001b[?25l  Downloading https://files.pythonhosted.org/packages/17/b2/3e52755ca838831e705587c70b5d26d002af92e2c1b19163d77078798267/giotto_time-0.2.1-py3-none-any.whl (83kB)\n",
            "\r\u001b[K     |████                            | 10kB 15.7MB/s eta 0:00:01\r\u001b[K     |███████▉                        | 20kB 12.6MB/s eta 0:00:01\r\u001b[K     |███████████▊                    | 30kB 12.1MB/s eta 0:00:01\r\u001b[K     |███████████████▊                | 40kB 8.7MB/s eta 0:00:01\r\u001b[K     |███████████████████▋            | 51kB 5.4MB/s eta 0:00:01\r\u001b[K     |███████████████████████▌        | 61kB 5.4MB/s eta 0:00:01\r\u001b[K     |███████████████████████████▌    | 71kB 6.0MB/s eta 0:00:01\r\u001b[K     |███████████████████████████████▍| 81kB 6.6MB/s eta 0:00:01\r\u001b[K     |████████████████████████████████| 92kB 3.7MB/s \n",
            "\u001b[?25hRequirement already satisfied: scikit-learn>=0.22.0 in /usr/local/lib/python3.7/dist-packages (from giotto-time) (0.22.2.post1)\n",
            "Requirement already satisfied: scipy>=0.17.0 in /usr/local/lib/python3.7/dist-packages (from giotto-time) (1.4.1)\n",
            "Collecting workalendar>=7.1.1\n",
            "\u001b[?25l  Downloading https://files.pythonhosted.org/packages/97/e0/d70a24739f5f357dba42e71b56776e0699cd0509c4821f2901cbf31dc96e/workalendar-15.1.0-py3-none-any.whl (190kB)\n",
            "\u001b[K     |████████████████████████████████| 194kB 8.4MB/s \n",
            "\u001b[?25hRequirement already satisfied: pandas>=0.25.3 in /usr/local/lib/python3.7/dist-packages (from giotto-time) (1.1.5)\n",
            "Requirement already satisfied: joblib>=0.11 in /usr/local/lib/python3.7/dist-packages (from scikit-learn>=0.22.0->giotto-time) (1.0.1)\n",
            "Requirement already satisfied: numpy>=1.11.0 in /usr/local/lib/python3.7/dist-packages (from scikit-learn>=0.22.0->giotto-time) (1.19.5)\n",
            "Collecting skyfield\n",
            "\u001b[?25l  Downloading https://files.pythonhosted.org/packages/64/c3/d9d51275751d649aead4a107c9cc9a2745097281776c90a41ed36e4a83b2/skyfield-1.39.tar.gz (373kB)\n",
            "\u001b[K     |████████████████████████████████| 378kB 9.1MB/s \n",
            "\u001b[?25hRequirement already satisfied: python-dateutil in /usr/local/lib/python3.7/dist-packages (from workalendar>=7.1.1->giotto-time) (2.8.1)\n",
            "Collecting lunardate\n",
            "  Downloading https://files.pythonhosted.org/packages/4e/7e/377a3cbba646ec0cf79433ef858881d809a3b87eb887b0901cb83c66a758/lunardate-0.2.0-py3-none-any.whl\n",
            "Collecting skyfield-data\n",
            "\u001b[?25l  Downloading https://files.pythonhosted.org/packages/61/ea/9f32d84708069f4cef56d682ace8d0c3f7f4ee4550bba295e49ff4cf7590/skyfield_data-3.0.0-py2.py3-none-any.whl (16.9MB)\n",
            "\u001b[K     |████████████████████████████████| 16.9MB 215kB/s \n",
            "\u001b[?25hCollecting backports.zoneinfo; python_version < \"3.9\"\n",
            "\u001b[?25l  Downloading https://files.pythonhosted.org/packages/4c/7e/ed8af95bed90eeccfb4a4fe6ec424bc7a79e1aa983e54dd1d9062d9fa20b/backports.zoneinfo-0.2.1-cp37-cp37m-manylinux1_x86_64.whl (70kB)\n",
            "\u001b[K     |████████████████████████████████| 71kB 5.4MB/s \n",
            "\u001b[?25hCollecting pyluach\n",
            "  Downloading https://files.pythonhosted.org/packages/35/e1/0feb20f4e2cdc879843673a295dc6e5f91af8efdc6ba8b6f028f1b1ddb21/pyluach-1.2.1-py3-none-any.whl\n",
            "Requirement already satisfied: setuptools>=1.0 in /usr/local/lib/python3.7/dist-packages (from workalendar>=7.1.1->giotto-time) (54.2.0)\n",
            "Collecting pyCalverter\n",
            "  Downloading https://files.pythonhosted.org/packages/4f/5c/57c6853f7a5bc41fc9da7651ae67b9c76381083742613faa7381724081e9/pyCalverter-1.6.1.tar.gz\n",
            "Requirement already satisfied: pytz>=2017.2 in /usr/local/lib/python3.7/dist-packages (from pandas>=0.25.3->giotto-time) (2018.9)\n",
            "Requirement already satisfied: certifi>=2017.4.17 in /usr/local/lib/python3.7/dist-packages (from skyfield->workalendar>=7.1.1->giotto-time) (2020.12.5)\n",
            "Collecting jplephem>=2.13\n",
            "\u001b[?25l  Downloading https://files.pythonhosted.org/packages/c9/f0/e57456436531333455f40864622c5ae359654ccede8fe1156c3c2ac6c492/jplephem-2.15.tar.gz (40kB)\n",
            "\u001b[K     |████████████████████████████████| 40kB 4.1MB/s \n",
            "\u001b[?25hCollecting sgp4>=2.2\n",
            "\u001b[?25l  Downloading https://files.pythonhosted.org/packages/9a/0a/ef3ac594e96a33929234abe7e52e0f95e66c67e9a1503b6eb63b62121da0/sgp4-2.18-cp37-cp37m-manylinux2010_x86_64.whl (255kB)\n",
            "\u001b[K     |████████████████████████████████| 256kB 51.1MB/s \n",
            "\u001b[?25hRequirement already satisfied: six>=1.5 in /usr/local/lib/python3.7/dist-packages (from python-dateutil->workalendar>=7.1.1->giotto-time) (1.15.0)\n",
            "Building wheels for collected packages: skyfield, pyCalverter, jplephem\n",
            "  Building wheel for skyfield (setup.py) ... \u001b[?25l\u001b[?25hdone\n",
            "  Created wheel for skyfield: filename=skyfield-1.39-cp37-none-any.whl size=417567 sha256=ab128ab807d0b873862c94fde7b1183badef3fe9c19e4ed464cb923424817007\n",
            "  Stored in directory: /root/.cache/pip/wheels/bb/a4/a6/2f7e3bc8ec08ffc7485c92d18dd726e0dbafc0f7a8b1519518\n",
            "  Building wheel for pyCalverter (setup.py) ... \u001b[?25l\u001b[?25hdone\n",
            "  Created wheel for pyCalverter: filename=pyCalverter-1.6.1-cp37-none-any.whl size=4201 sha256=548fe0a031c89acfca1a2fa0cd14368acb21a80a4147addf9fa26541c833d6a9\n",
            "  Stored in directory: /root/.cache/pip/wheels/77/4d/86/db4ff4eca6178dbbd5a365d095f97f6021e2a48f09908be79c\n",
            "  Building wheel for jplephem (setup.py) ... \u001b[?25l\u001b[?25hdone\n",
            "  Created wheel for jplephem: filename=jplephem-2.15-cp37-none-any.whl size=46020 sha256=0ba676f57cac3fdb47406e783b09f79f4b40abdb6a87bb42d12ea11eef9ac08c\n",
            "  Stored in directory: /root/.cache/pip/wheels/01/71/9c/beaa33beb607ef67b62765324a10cd3584e30fbeef8856b7a8\n",
            "Successfully built skyfield pyCalverter jplephem\n",
            "Installing collected packages: jplephem, sgp4, skyfield, lunardate, skyfield-data, backports.zoneinfo, pyluach, pyCalverter, workalendar, giotto-time\n",
            "Successfully installed backports.zoneinfo-0.2.1 giotto-time-0.2.1 jplephem-2.15 lunardate-0.2.0 pyCalverter-1.6.1 pyluach-1.2.1 sgp4-2.18 skyfield-1.39 skyfield-data-3.0.0 workalendar-15.1.0\n"
          ],
          "name": "stdout"
        }
      ]
    },
    {
      "cell_type": "markdown",
      "metadata": {
        "id": "JENPksuaDoa0"
      },
      "source": [
        "# Basic Time-series Forecasting"
      ]
    },
    {
      "cell_type": "code",
      "metadata": {
        "id": "8qB6XrSNRNg8"
      },
      "source": [
        "import pandas as pd\n",
        "import numpy as np\n",
        "import matplotlib.pyplot as plt\n",
        "\n",
        "from gtime.preprocessing import TimeSeriesPreparation\n",
        "from gtime.compose import FeatureCreation\n",
        "from gtime.feature_extraction import Shift, MovingAverage\n",
        "from gtime.feature_generation import PeriodicSeasonal, Constant, Calendar\n",
        "from gtime.model_selection import horizon_shift, FeatureSplitter\n",
        "from gtime.forecasting import GAR"
      ],
      "execution_count": 3,
      "outputs": []
    },
    {
      "cell_type": "code",
      "metadata": {
        "id": "NoSeBl4sdja_"
      },
      "source": [
        "from sklearn.linear_model import LinearRegression"
      ],
      "execution_count": 4,
      "outputs": []
    },
    {
      "cell_type": "code",
      "metadata": {
        "id": "09b1Tx6lgf2m"
      },
      "source": [
        "def test_time_series():\n",
        "    from pandas.util import testing as testing\n",
        "\n",
        "    testing.N, testing.K = 500, 1\n",
        "    df = testing.makeTimeDataFrame( freq=\"D\" )\n",
        "    return df"
      ],
      "execution_count": 5,
      "outputs": []
    },
    {
      "cell_type": "code",
      "metadata": {
        "colab": {
          "base_uri": "https://localhost:8080/"
        },
        "id": "a3ap3odygwQk",
        "outputId": "f22e92a5-cc2d-4b7d-846c-ae8c231de243"
      },
      "source": [
        "time_series = test_time_series()\n",
        "print(f'Time series shape: {time_series.shape}')\n",
        "print(f'Time series index type: {time_series.index.__class__}')"
      ],
      "execution_count": 6,
      "outputs": [
        {
          "output_type": "stream",
          "text": [
            "Time series shape: (30, 4)\n",
            "Time series index type: <class 'pandas.core.indexes.datetimes.DatetimeIndex'>\n"
          ],
          "name": "stdout"
        },
        {
          "output_type": "stream",
          "text": [
            "/usr/local/lib/python3.7/dist-packages/pandas/util/__init__.py:12: FutureWarning: pandas.util.testing is deprecated. Use the functions in the public API at pandas.testing instead.\n",
            "  import pandas.util.testing\n"
          ],
          "name": "stderr"
        }
      ]
    },
    {
      "cell_type": "code",
      "metadata": {
        "colab": {
          "base_uri": "https://localhost:8080/"
        },
        "id": "c3A957QwhZBP",
        "outputId": "9b39f1d7-0993-429d-c3b6-468487a83603"
      },
      "source": [
        "time_series_preparation = TimeSeriesPreparation()\n",
        "period_index_time_series = time_series_preparation.transform(time_series)\n",
        "print(f'Time series index type after the preprocessing: \\n {period_index_time_series.index.__class__}')"
      ],
      "execution_count": 7,
      "outputs": [
        {
          "output_type": "stream",
          "text": [
            "Time series index type after the preprocessing: \n",
            " <class 'pandas.core.indexes.period.PeriodIndex'>\n"
          ],
          "name": "stdout"
        }
      ]
    },
    {
      "cell_type": "code",
      "metadata": {
        "colab": {
          "base_uri": "https://localhost:8080/",
          "height": 355
        },
        "id": "pbq19COEhj7F",
        "outputId": "3d4bb6e6-054a-43bb-8fa3-a750ef2953cc"
      },
      "source": [
        "period_index_time_series.plot(figsize=(10, 5))\n",
        "plt.show()"
      ],
      "execution_count": 18,
      "outputs": [
        {
          "output_type": "display_data",
          "data": {
            "image/png": "[encoded data removed]",
            "text/plain": [
              "<Figure size 720x360 with 1 Axes>"
            ]
          },
          "metadata": {
            "tags": [],
            "needs_background": "light"
          }
        }
      ]
    },
    {
      "cell_type": "code",
      "metadata": {
        "id": "k2Ja9634jDkG"
      },
      "source": [
        "\n",
        "cal = Calendar(\n",
        "    start_date=\"ignored\",\n",
        "    end_date=\"ignored\",\n",
        "    region=\"america\",\n",
        "    country=\"Brazil\",\n",
        "    kernel=np.array([0, 1]),\n",
        ")\n",
        "# New API \n",
        "dft = FeatureCreation(\n",
        "    [('s0', Shift(0), ['time_series']), \n",
        "     ('s1', Shift(1), ['time_series']),\n",
        "     ('ma3', MovingAverage(window_size=3), ['time_series']),\n",
        "    ])"
      ],
      "execution_count": 19,
      "outputs": []
    },
    {
      "cell_type": "code",
      "metadata": {
        "colab": {
          "base_uri": "https://localhost:8080/",
          "height": 235
        },
        "id": "zRcLoYkjjIUk",
        "outputId": "2229500f-0425-4a7b-e360-a852b71185d8"
      },
      "source": [
        "X = dft.fit_transform(period_index_time_series)\n",
        "X.head(6)\n"
      ],
      "execution_count": 21,
      "outputs": [
        {
          "output_type": "execute_result",
          "data": {
            "text/html": [
              "<div>\n",
              "<style scoped>\n",
              "    .dataframe tbody tr th:only-of-type {\n",
              "        vertical-align: middle;\n",
              "    }\n",
              "\n",
              "    .dataframe tbody tr th {\n",
              "        vertical-align: top;\n",
              "    }\n",
              "\n",
              "    .dataframe thead th {\n",
              "        text-align: right;\n",
              "    }\n",
              "</style>\n",
              "<table border=\"1\" class=\"dataframe\">\n",
              "  <thead>\n",
              "    <tr style=\"text-align: right;\">\n",
              "      <th></th>\n",
              "      <th>s0__time_series__Shift</th>\n",
              "      <th>s1__time_series__Shift</th>\n",
              "      <th>ma3__time_series__MovingAverage</th>\n",
              "      <th>cal__Calendar</th>\n",
              "      <th>ct__Constant</th>\n",
              "    </tr>\n",
              "  </thead>\n",
              "  <tbody>\n",
              "    <tr>\n",
              "      <th>2000-01-25</th>\n",
              "      <td>0.772001</td>\n",
              "      <td>1.477305</td>\n",
              "      <td>1.601956</td>\n",
              "      <td>0.0</td>\n",
              "      <td>2.0</td>\n",
              "    </tr>\n",
              "    <tr>\n",
              "      <th>2000-01-26</th>\n",
              "      <td>-0.142176</td>\n",
              "      <td>0.772001</td>\n",
              "      <td>0.702377</td>\n",
              "      <td>0.0</td>\n",
              "      <td>2.0</td>\n",
              "    </tr>\n",
              "    <tr>\n",
              "      <th>2000-01-27</th>\n",
              "      <td>-2.427659</td>\n",
              "      <td>-0.142176</td>\n",
              "      <td>-0.599278</td>\n",
              "      <td>0.0</td>\n",
              "      <td>2.0</td>\n",
              "    </tr>\n",
              "    <tr>\n",
              "      <th>2000-01-28</th>\n",
              "      <td>0.329416</td>\n",
              "      <td>-2.427659</td>\n",
              "      <td>-0.746806</td>\n",
              "      <td>0.0</td>\n",
              "      <td>2.0</td>\n",
              "    </tr>\n",
              "    <tr>\n",
              "      <th>2000-01-29</th>\n",
              "      <td>-0.948387</td>\n",
              "      <td>0.329416</td>\n",
              "      <td>-1.015543</td>\n",
              "      <td>0.0</td>\n",
              "      <td>2.0</td>\n",
              "    </tr>\n",
              "    <tr>\n",
              "      <th>2000-01-30</th>\n",
              "      <td>1.989901</td>\n",
              "      <td>-0.948387</td>\n",
              "      <td>0.456977</td>\n",
              "      <td>0.0</td>\n",
              "      <td>2.0</td>\n",
              "    </tr>\n",
              "  </tbody>\n",
              "</table>\n",
              "</div>"
            ],
            "text/plain": [
              "            s0__time_series__Shift  ...  ct__Constant\n",
              "2000-01-25                0.772001  ...           2.0\n",
              "2000-01-26               -0.142176  ...           2.0\n",
              "2000-01-27               -2.427659  ...           2.0\n",
              "2000-01-28                0.329416  ...           2.0\n",
              "2000-01-29               -0.948387  ...           2.0\n",
              "2000-01-30                1.989901  ...           2.0\n",
              "\n",
              "[6 rows x 5 columns]"
            ]
          },
          "metadata": {
            "tags": []
          },
          "execution_count": 21
        }
      ]
    },
    {
      "cell_type": "code",
      "metadata": {
        "colab": {
          "base_uri": "https://localhost:8080/",
          "height": 204
        },
        "id": "9q3XWzR3jMPl",
        "outputId": "79d5fd31-41cc-4ed6-c46e-2a79b54d05f6"
      },
      "source": [
        "y = horizon_shift(period_index_time_series, horizon=3)\n",
        "y.head()"
      ],
      "execution_count": 11,
      "outputs": [
        {
          "output_type": "execute_result",
          "data": {
            "text/html": [
              "<div>\n",
              "<style scoped>\n",
              "    .dataframe tbody tr th:only-of-type {\n",
              "        vertical-align: middle;\n",
              "    }\n",
              "\n",
              "    .dataframe tbody tr th {\n",
              "        vertical-align: top;\n",
              "    }\n",
              "\n",
              "    .dataframe thead th {\n",
              "        text-align: right;\n",
              "    }\n",
              "</style>\n",
              "<table border=\"1\" class=\"dataframe\">\n",
              "  <thead>\n",
              "    <tr style=\"text-align: right;\">\n",
              "      <th></th>\n",
              "      <th>y_1</th>\n",
              "      <th>y_2</th>\n",
              "      <th>y_3</th>\n",
              "    </tr>\n",
              "  </thead>\n",
              "  <tbody>\n",
              "    <tr>\n",
              "      <th>2000-01-01</th>\n",
              "      <td>-1.171712</td>\n",
              "      <td>0.729488</td>\n",
              "      <td>-1.423077</td>\n",
              "    </tr>\n",
              "    <tr>\n",
              "      <th>2000-01-02</th>\n",
              "      <td>0.729488</td>\n",
              "      <td>-1.423077</td>\n",
              "      <td>-0.611391</td>\n",
              "    </tr>\n",
              "    <tr>\n",
              "      <th>2000-01-03</th>\n",
              "      <td>-1.423077</td>\n",
              "      <td>-0.611391</td>\n",
              "      <td>-0.428489</td>\n",
              "    </tr>\n",
              "    <tr>\n",
              "      <th>2000-01-04</th>\n",
              "      <td>-0.611391</td>\n",
              "      <td>-0.428489</td>\n",
              "      <td>0.857282</td>\n",
              "    </tr>\n",
              "    <tr>\n",
              "      <th>2000-01-05</th>\n",
              "      <td>-0.428489</td>\n",
              "      <td>0.857282</td>\n",
              "      <td>-0.164129</td>\n",
              "    </tr>\n",
              "  </tbody>\n",
              "</table>\n",
              "</div>"
            ],
            "text/plain": [
              "                 y_1       y_2       y_3\n",
              "2000-01-01 -1.171712  0.729488 -1.423077\n",
              "2000-01-02  0.729488 -1.423077 -0.611391\n",
              "2000-01-03 -1.423077 -0.611391 -0.428489\n",
              "2000-01-04 -0.611391 -0.428489  0.857282\n",
              "2000-01-05 -0.428489  0.857282 -0.164129"
            ]
          },
          "metadata": {
            "tags": []
          },
          "execution_count": 11
        }
      ]
    },
    {
      "cell_type": "code",
      "metadata": {
        "colab": {
          "base_uri": "https://localhost:8080/",
          "height": 204
        },
        "id": "LPwecJOqjRkx",
        "outputId": "79ea9668-9fd5-41af-ac12-ec46c716aea7"
      },
      "source": [
        "feature_splitter = FeatureSplitter()\n",
        "X_train, y_train, X_test, y_test = feature_splitter.transform(X, y)\n",
        "X_train.tail()"
      ],
      "execution_count": 12,
      "outputs": [
        {
          "output_type": "execute_result",
          "data": {
            "text/html": [
              "<div>\n",
              "<style scoped>\n",
              "    .dataframe tbody tr th:only-of-type {\n",
              "        vertical-align: middle;\n",
              "    }\n",
              "\n",
              "    .dataframe tbody tr th {\n",
              "        vertical-align: top;\n",
              "    }\n",
              "\n",
              "    .dataframe thead th {\n",
              "        text-align: right;\n",
              "    }\n",
              "</style>\n",
              "<table border=\"1\" class=\"dataframe\">\n",
              "  <thead>\n",
              "    <tr style=\"text-align: right;\">\n",
              "      <th></th>\n",
              "      <th>s0__time_series__Shift</th>\n",
              "      <th>s1__time_series__Shift</th>\n",
              "      <th>ma3__time_series__MovingAverage</th>\n",
              "    </tr>\n",
              "  </thead>\n",
              "  <tbody>\n",
              "    <tr>\n",
              "      <th>2000-01-23</th>\n",
              "      <td>2.556562</td>\n",
              "      <td>-0.611135</td>\n",
              "      <td>1.032918</td>\n",
              "    </tr>\n",
              "    <tr>\n",
              "      <th>2000-01-24</th>\n",
              "      <td>1.477305</td>\n",
              "      <td>2.556562</td>\n",
              "      <td>1.140911</td>\n",
              "    </tr>\n",
              "    <tr>\n",
              "      <th>2000-01-25</th>\n",
              "      <td>0.772001</td>\n",
              "      <td>1.477305</td>\n",
              "      <td>1.601956</td>\n",
              "    </tr>\n",
              "    <tr>\n",
              "      <th>2000-01-26</th>\n",
              "      <td>-0.142176</td>\n",
              "      <td>0.772001</td>\n",
              "      <td>0.702377</td>\n",
              "    </tr>\n",
              "    <tr>\n",
              "      <th>2000-01-27</th>\n",
              "      <td>-2.427659</td>\n",
              "      <td>-0.142176</td>\n",
              "      <td>-0.599278</td>\n",
              "    </tr>\n",
              "  </tbody>\n",
              "</table>\n",
              "</div>"
            ],
            "text/plain": [
              "            s0__time_series__Shift  ...  ma3__time_series__MovingAverage\n",
              "2000-01-23                2.556562  ...                         1.032918\n",
              "2000-01-24                1.477305  ...                         1.140911\n",
              "2000-01-25                0.772001  ...                         1.601956\n",
              "2000-01-26               -0.142176  ...                         0.702377\n",
              "2000-01-27               -2.427659  ...                        -0.599278\n",
              "\n",
              "[5 rows x 3 columns]"
            ]
          },
          "metadata": {
            "tags": []
          },
          "execution_count": 12
        }
      ]
    },
    {
      "cell_type": "code",
      "metadata": {
        "colab": {
          "base_uri": "https://localhost:8080/",
          "height": 142
        },
        "id": "UlX5a4gtjXq9",
        "outputId": "848f2756-7bf6-479b-8a0b-221933c3d431"
      },
      "source": [
        "X_test\n"
      ],
      "execution_count": 13,
      "outputs": [
        {
          "output_type": "execute_result",
          "data": {
            "text/html": [
              "<div>\n",
              "<style scoped>\n",
              "    .dataframe tbody tr th:only-of-type {\n",
              "        vertical-align: middle;\n",
              "    }\n",
              "\n",
              "    .dataframe tbody tr th {\n",
              "        vertical-align: top;\n",
              "    }\n",
              "\n",
              "    .dataframe thead th {\n",
              "        text-align: right;\n",
              "    }\n",
              "</style>\n",
              "<table border=\"1\" class=\"dataframe\">\n",
              "  <thead>\n",
              "    <tr style=\"text-align: right;\">\n",
              "      <th></th>\n",
              "      <th>s0__time_series__Shift</th>\n",
              "      <th>s1__time_series__Shift</th>\n",
              "      <th>ma3__time_series__MovingAverage</th>\n",
              "    </tr>\n",
              "  </thead>\n",
              "  <tbody>\n",
              "    <tr>\n",
              "      <th>2000-01-28</th>\n",
              "      <td>0.329416</td>\n",
              "      <td>-2.427659</td>\n",
              "      <td>-0.746806</td>\n",
              "    </tr>\n",
              "    <tr>\n",
              "      <th>2000-01-29</th>\n",
              "      <td>-0.948387</td>\n",
              "      <td>0.329416</td>\n",
              "      <td>-1.015543</td>\n",
              "    </tr>\n",
              "    <tr>\n",
              "      <th>2000-01-30</th>\n",
              "      <td>1.989901</td>\n",
              "      <td>-0.948387</td>\n",
              "      <td>0.456977</td>\n",
              "    </tr>\n",
              "  </tbody>\n",
              "</table>\n",
              "</div>"
            ],
            "text/plain": [
              "            s0__time_series__Shift  ...  ma3__time_series__MovingAverage\n",
              "2000-01-28                0.329416  ...                        -0.746806\n",
              "2000-01-29               -0.948387  ...                        -1.015543\n",
              "2000-01-30                1.989901  ...                         0.456977\n",
              "\n",
              "[3 rows x 3 columns]"
            ]
          },
          "metadata": {
            "tags": []
          },
          "execution_count": 13
        }
      ]
    },
    {
      "cell_type": "code",
      "metadata": {
        "colab": {
          "base_uri": "https://localhost:8080/",
          "height": 204
        },
        "id": "Bb5247yHjcXu",
        "outputId": "80452cea-36e6-4628-c6df-24fe25df7ea3"
      },
      "source": [
        "y_train.tail()\n"
      ],
      "execution_count": 14,
      "outputs": [
        {
          "output_type": "execute_result",
          "data": {
            "text/html": [
              "<div>\n",
              "<style scoped>\n",
              "    .dataframe tbody tr th:only-of-type {\n",
              "        vertical-align: middle;\n",
              "    }\n",
              "\n",
              "    .dataframe tbody tr th {\n",
              "        vertical-align: top;\n",
              "    }\n",
              "\n",
              "    .dataframe thead th {\n",
              "        text-align: right;\n",
              "    }\n",
              "</style>\n",
              "<table border=\"1\" class=\"dataframe\">\n",
              "  <thead>\n",
              "    <tr style=\"text-align: right;\">\n",
              "      <th></th>\n",
              "      <th>y_1</th>\n",
              "      <th>y_2</th>\n",
              "      <th>y_3</th>\n",
              "    </tr>\n",
              "  </thead>\n",
              "  <tbody>\n",
              "    <tr>\n",
              "      <th>2000-01-23</th>\n",
              "      <td>1.477305</td>\n",
              "      <td>0.772001</td>\n",
              "      <td>-0.142176</td>\n",
              "    </tr>\n",
              "    <tr>\n",
              "      <th>2000-01-24</th>\n",
              "      <td>0.772001</td>\n",
              "      <td>-0.142176</td>\n",
              "      <td>-2.427659</td>\n",
              "    </tr>\n",
              "    <tr>\n",
              "      <th>2000-01-25</th>\n",
              "      <td>-0.142176</td>\n",
              "      <td>-2.427659</td>\n",
              "      <td>0.329416</td>\n",
              "    </tr>\n",
              "    <tr>\n",
              "      <th>2000-01-26</th>\n",
              "      <td>-2.427659</td>\n",
              "      <td>0.329416</td>\n",
              "      <td>-0.948387</td>\n",
              "    </tr>\n",
              "    <tr>\n",
              "      <th>2000-01-27</th>\n",
              "      <td>0.329416</td>\n",
              "      <td>-0.948387</td>\n",
              "      <td>1.989901</td>\n",
              "    </tr>\n",
              "  </tbody>\n",
              "</table>\n",
              "</div>"
            ],
            "text/plain": [
              "                 y_1       y_2       y_3\n",
              "2000-01-23  1.477305  0.772001 -0.142176\n",
              "2000-01-24  0.772001 -0.142176 -2.427659\n",
              "2000-01-25 -0.142176 -2.427659  0.329416\n",
              "2000-01-26 -2.427659  0.329416 -0.948387\n",
              "2000-01-27  0.329416 -0.948387  1.989901"
            ]
          },
          "metadata": {
            "tags": []
          },
          "execution_count": 14
        }
      ]
    },
    {
      "cell_type": "code",
      "metadata": {
        "colab": {
          "base_uri": "https://localhost:8080/",
          "height": 142
        },
        "id": "DWxP4IZPjfk6",
        "outputId": "e7faea32-fa5f-4e68-a292-c355c8c85435"
      },
      "source": [
        "y_test"
      ],
      "execution_count": 15,
      "outputs": [
        {
          "output_type": "execute_result",
          "data": {
            "text/html": [
              "<div>\n",
              "<style scoped>\n",
              "    .dataframe tbody tr th:only-of-type {\n",
              "        vertical-align: middle;\n",
              "    }\n",
              "\n",
              "    .dataframe tbody tr th {\n",
              "        vertical-align: top;\n",
              "    }\n",
              "\n",
              "    .dataframe thead th {\n",
              "        text-align: right;\n",
              "    }\n",
              "</style>\n",
              "<table border=\"1\" class=\"dataframe\">\n",
              "  <thead>\n",
              "    <tr style=\"text-align: right;\">\n",
              "      <th></th>\n",
              "      <th>y_1</th>\n",
              "      <th>y_2</th>\n",
              "      <th>y_3</th>\n",
              "    </tr>\n",
              "  </thead>\n",
              "  <tbody>\n",
              "    <tr>\n",
              "      <th>2000-01-28</th>\n",
              "      <td>-0.948387</td>\n",
              "      <td>1.989901</td>\n",
              "      <td>NaN</td>\n",
              "    </tr>\n",
              "    <tr>\n",
              "      <th>2000-01-29</th>\n",
              "      <td>1.989901</td>\n",
              "      <td>NaN</td>\n",
              "      <td>NaN</td>\n",
              "    </tr>\n",
              "    <tr>\n",
              "      <th>2000-01-30</th>\n",
              "      <td>NaN</td>\n",
              "      <td>NaN</td>\n",
              "      <td>NaN</td>\n",
              "    </tr>\n",
              "  </tbody>\n",
              "</table>\n",
              "</div>"
            ],
            "text/plain": [
              "                 y_1       y_2  y_3\n",
              "2000-01-28 -0.948387  1.989901  NaN\n",
              "2000-01-29  1.989901       NaN  NaN\n",
              "2000-01-30       NaN       NaN  NaN"
            ]
          },
          "metadata": {
            "tags": []
          },
          "execution_count": 15
        }
      ]
    },
    {
      "cell_type": "code",
      "metadata": {
        "id": "YmqH-Ex3jiBk"
      },
      "source": [
        "lr = LinearRegression()\n",
        "model = GAR(lr)\n",
        "model = model.fit(X_train, y_train)"
      ],
      "execution_count": 16,
      "outputs": []
    },
    {
      "cell_type": "code",
      "metadata": {
        "colab": {
          "base_uri": "https://localhost:8080/",
          "height": 142
        },
        "id": "MUnG55lrjtib",
        "outputId": "528802c2-27b0-4bbc-e5e7-5a27d7c06d16"
      },
      "source": [
        "predictions = model.predict(X_test)\n",
        "predictions"
      ],
      "execution_count": 17,
      "outputs": [
        {
          "output_type": "execute_result",
          "data": {
            "text/html": [
              "<div>\n",
              "<style scoped>\n",
              "    .dataframe tbody tr th:only-of-type {\n",
              "        vertical-align: middle;\n",
              "    }\n",
              "\n",
              "    .dataframe tbody tr th {\n",
              "        vertical-align: top;\n",
              "    }\n",
              "\n",
              "    .dataframe thead th {\n",
              "        text-align: right;\n",
              "    }\n",
              "</style>\n",
              "<table border=\"1\" class=\"dataframe\">\n",
              "  <thead>\n",
              "    <tr style=\"text-align: right;\">\n",
              "      <th></th>\n",
              "      <th>y_1</th>\n",
              "      <th>y_2</th>\n",
              "      <th>y_3</th>\n",
              "    </tr>\n",
              "  </thead>\n",
              "  <tbody>\n",
              "    <tr>\n",
              "      <th>2000-01-28</th>\n",
              "      <td>-0.081028</td>\n",
              "      <td>0.820356</td>\n",
              "      <td>0.555104</td>\n",
              "    </tr>\n",
              "    <tr>\n",
              "      <th>2000-01-29</th>\n",
              "      <td>0.710167</td>\n",
              "      <td>0.466966</td>\n",
              "      <td>-0.085525</td>\n",
              "    </tr>\n",
              "    <tr>\n",
              "      <th>2000-01-30</th>\n",
              "      <td>0.022575</td>\n",
              "      <td>0.640558</td>\n",
              "      <td>-0.235207</td>\n",
              "    </tr>\n",
              "  </tbody>\n",
              "</table>\n",
              "</div>"
            ],
            "text/plain": [
              "                 y_1       y_2       y_3\n",
              "2000-01-28 -0.081028  0.820356  0.555104\n",
              "2000-01-29  0.710167  0.466966 -0.085525\n",
              "2000-01-30  0.022575  0.640558 -0.235207"
            ]
          },
          "metadata": {
            "tags": []
          },
          "execution_count": 17
        }
      ]
    },
    {
      "cell_type": "markdown",
      "metadata": {
        "id": "c32J8uv3DjSS"
      },
      "source": [
        "### Thank you for your time"
      ]
    }
  ]
}