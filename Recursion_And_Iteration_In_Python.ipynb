{
  "nbformat": 4,
  "nbformat_minor": 0,
  "metadata": {
    "colab": {
      "name": "Recursion And Iteration In Python.ipynb",
      "provenance": [],
      "collapsed_sections": [],
      "authorship_tag": "ABX9TyP8aGkVXo51/jPmgFMJYpwm",
      "include_colab_link": true
    },
    "kernelspec": {
      "name": "python3",
      "display_name": "Python 3"
    },
    "language_info": {
      "name": "python"
    }
  },
  "cells": [
    {
      "cell_type": "markdown",
      "metadata": {
        "id": "view-in-github",
        "colab_type": "text"
      },
      "source": [
        "<a href=\"https://colab.research.google.com/github/RajkumarGalaxy/StructuredData/blob/master/Recursion_And_Iteration_In_Python.ipynb\" target=\"_parent\"><img src=\"https://colab.research.google.com/assets/colab-badge.svg\" alt=\"Open In Colab\"/></a>"
      ]
    },
    {
      "cell_type": "markdown",
      "metadata": {
        "id": "NH1tAHa3iYKI"
      },
      "source": [
        "# Ultimate Guide To Recursion And Iteration In Python"
      ]
    },
    {
      "cell_type": "code",
      "metadata": {
        "id": "i9VImRkEiWuy"
      },
      "source": [
        "flowers = ['lily', 'tulip', 'rose', 'lavender', 'dandelion'] "
      ],
      "execution_count": 1,
      "outputs": []
    },
    {
      "cell_type": "code",
      "metadata": {
        "colab": {
          "base_uri": "https://localhost:8080/"
        },
        "id": "XJ4W6laekhDw",
        "outputId": "1bde6890-e596-4e71-b829-fe38bbeac436"
      },
      "source": [
        "print(flowers[0])\n",
        "print(flowers[1])\n",
        "print(flowers[2])\n",
        "print(flowers[3])\n",
        "print(flowers[4])"
      ],
      "execution_count": 2,
      "outputs": [
        {
          "output_type": "stream",
          "text": [
            "lily\n",
            "tulip\n",
            "rose\n",
            "lavender\n",
            "dandelion\n"
          ],
          "name": "stdout"
        }
      ]
    },
    {
      "cell_type": "code",
      "metadata": {
        "colab": {
          "base_uri": "https://localhost:8080/"
        },
        "id": "JkrLghUUm_A_",
        "outputId": "286712db-83e8-46eb-c30c-4f064f7f7dd3"
      },
      "source": [
        "for flower in flowers:\n",
        "  print(flower)"
      ],
      "execution_count": 3,
      "outputs": [
        {
          "output_type": "stream",
          "text": [
            "lily\n",
            "tulip\n",
            "rose\n",
            "lavender\n",
            "dandelion\n"
          ],
          "name": "stdout"
        }
      ]
    },
    {
      "cell_type": "markdown",
      "metadata": {
        "id": "3rshm1--x_wW"
      },
      "source": [
        "# Factorial of an integer"
      ]
    },
    {
      "cell_type": "code",
      "metadata": {
        "colab": {
          "base_uri": "https://localhost:8080/"
        },
        "id": "fZ9HjHftyKK4",
        "outputId": "52700f78-8cab-4010-e2c0-dc1dec6f7477"
      },
      "source": [
        "# using a for loop\n",
        "n = 10\n",
        "result = 1\n",
        "for i in range(1,n+1):\n",
        "  result *= i\n",
        "\n",
        "print(result)"
      ],
      "execution_count": 4,
      "outputs": [
        {
          "output_type": "stream",
          "text": [
            "3628800\n"
          ],
          "name": "stdout"
        }
      ]
    },
    {
      "cell_type": "code",
      "metadata": {
        "colab": {
          "base_uri": "https://localhost:8080/"
        },
        "id": "n1y4g5JryqL7",
        "outputId": "423ed8c4-57d0-4afc-83af-c6641aa7c9e7"
      },
      "source": [
        "# using a while loop\n",
        "n = 10\n",
        "result = 1\n",
        "i = 1\n",
        "while i <= n:\n",
        "  result *= i\n",
        "  i += 1\n",
        "\n",
        "print(result)"
      ],
      "execution_count": 5,
      "outputs": [
        {
          "output_type": "stream",
          "text": [
            "3628800\n"
          ],
          "name": "stdout"
        }
      ]
    },
    {
      "cell_type": "code",
      "metadata": {
        "colab": {
          "base_uri": "https://localhost:8080/"
        },
        "id": "JPrZo_Yu0Y_f",
        "outputId": "3d35f21e-bb21-4f2d-82c3-3da6c197e7b4"
      },
      "source": [
        "# using recursion\n",
        "\n",
        "def Factorial(n):\n",
        "  # declare a base case (a limiting criteria)\n",
        "  if n == 1:\n",
        "    return 1\n",
        "  # continue with general case\n",
        "  else:\n",
        "    return n * Factorial(n-1)\n",
        "\n",
        "print(Factorial(10))"
      ],
      "execution_count": 6,
      "outputs": [
        {
          "output_type": "stream",
          "text": [
            "3628800\n"
          ],
          "name": "stdout"
        }
      ]
    },
    {
      "cell_type": "code",
      "metadata": {
        "colab": {
          "base_uri": "https://localhost:8080/"
        },
        "id": "g5BDf_jjC9mx",
        "outputId": "fa3cee4a-0581-4350-cf8f-941437f6f0a8"
      },
      "source": [
        "def Factorial(n):\n",
        "  if n == 1:\n",
        "    return 1\n",
        "  else:\n",
        "    return n * Factorial(n-1)\n",
        "\n",
        "print(Factorial(10))\n",
        "print(Factorial(9))\n",
        "print(Factorial(8))\n",
        "print(Factorial(7))\n",
        "print(Factorial(6))\n",
        "print(Factorial(5))\n",
        "print(Factorial(4))\n",
        "print(Factorial(3))\n",
        "print(Factorial(2))\n",
        "print(Factorial(1))"
      ],
      "execution_count": 7,
      "outputs": [
        {
          "output_type": "stream",
          "text": [
            "3628800\n",
            "362880\n",
            "40320\n",
            "5040\n",
            "720\n",
            "120\n",
            "24\n",
            "6\n",
            "2\n",
            "1\n"
          ],
          "name": "stdout"
        }
      ]
    },
    {
      "cell_type": "markdown",
      "metadata": {
        "id": "CQKQVIyKQrza"
      },
      "source": [
        "# Reverse a Given String"
      ]
    },
    {
      "cell_type": "code",
      "metadata": {
        "colab": {
          "base_uri": "https://localhost:8080/",
          "height": 35
        },
        "id": "3pUL4XJXPlfL",
        "outputId": "be711d52-4f2e-4d0a-cd3b-36c7cbbd0611"
      },
      "source": [
        "def Reverse_iter(s):\n",
        "  rev = ''\n",
        "  for k in s:\n",
        "    rev = k + rev\n",
        "  return rev\n",
        "\n",
        "Reverse_iter('Welcome!')"
      ],
      "execution_count": 8,
      "outputs": [
        {
          "output_type": "execute_result",
          "data": {
            "application/vnd.google.colaboratory.intrinsic+json": {
              "type": "string"
            },
            "text/plain": [
              "'!emocleW'"
            ]
          },
          "metadata": {
            "tags": []
          },
          "execution_count": 8
        }
      ]
    },
    {
      "cell_type": "code",
      "metadata": {
        "colab": {
          "base_uri": "https://localhost:8080/",
          "height": 35
        },
        "id": "k2o4i7dBUe9r",
        "outputId": "dfb665dd-fd36-49d8-c35c-ef7af617042d"
      },
      "source": [
        "def Reverse_rec(s):\n",
        "  if not s:\n",
        "    return ''\n",
        "  else:\n",
        "    return Reverse_rec(s[1:]) + s[0]\n",
        "\n",
        "Reverse_rec('Welcome!')"
      ],
      "execution_count": 9,
      "outputs": [
        {
          "output_type": "execute_result",
          "data": {
            "application/vnd.google.colaboratory.intrinsic+json": {
              "type": "string"
            },
            "text/plain": [
              "'!emocleW'"
            ]
          },
          "metadata": {
            "tags": []
          },
          "execution_count": 9
        }
      ]
    },
    {
      "cell_type": "markdown",
      "metadata": {
        "id": "Ec59BM-saYF3"
      },
      "source": [
        "# Build a Triangle with Numbers"
      ]
    },
    {
      "cell_type": "code",
      "metadata": {
        "colab": {
          "base_uri": "https://localhost:8080/"
        },
        "id": "LuF9BYcsuZPB",
        "outputId": "da696365-d382-479c-a21f-6419e4d1f79f"
      },
      "source": [
        "# Iterative form\n",
        "\n",
        "n = 8\n",
        "# rise up\n",
        "for i in range(n):\n",
        "  print(10**(3*i))\n",
        "# fall down\n",
        "for i in range(n, -1, -1):\n",
        "  print(10**(3*i))"
      ],
      "execution_count": 35,
      "outputs": [
        {
          "output_type": "stream",
          "text": [
            "1\n",
            "1000\n",
            "1000000\n",
            "1000000000\n",
            "1000000000000\n",
            "1000000000000000\n",
            "1000000000000000000\n",
            "1000000000000000000000\n",
            "1000000000000000000000000\n",
            "1000000000000000000000\n",
            "1000000000000000000\n",
            "1000000000000000\n",
            "1000000000000\n",
            "1000000000\n",
            "1000000\n",
            "1000\n",
            "1\n"
          ],
          "name": "stdout"
        }
      ]
    },
    {
      "cell_type": "code",
      "metadata": {
        "colab": {
          "base_uri": "https://localhost:8080/"
        },
        "id": "rULpWMtizfd_",
        "outputId": "ce00cf74-82ea-447f-830b-ca3efa7f92d2"
      },
      "source": [
        "\n",
        "# recursive form\n",
        "\n",
        "def Triangle(n, i=0):\n",
        "  if n==0:\n",
        "    print(1)\n",
        "    return None\n",
        "  print(10**(3*i))\n",
        "  if i<n:\n",
        "    Triangle(n, i+1)\n",
        "  else:\n",
        "    Triangle(n-1, i-1)\n",
        "\n",
        "Triangle(8)"
      ],
      "execution_count": 36,
      "outputs": [
        {
          "output_type": "stream",
          "text": [
            "1\n",
            "1000\n",
            "1000000\n",
            "1000000000\n",
            "1000000000000\n",
            "1000000000000000\n",
            "1000000000000000000\n",
            "1000000000000000000000\n",
            "1000000000000000000000000\n",
            "1000000000000000000000\n",
            "1000000000000000000\n",
            "1000000000000000\n",
            "1000000000000\n",
            "1000000000\n",
            "1000000\n",
            "1000\n",
            "1\n"
          ],
          "name": "stdout"
        }
      ]
    },
    {
      "cell_type": "markdown",
      "metadata": {
        "id": "TJgu6Nm498wg"
      },
      "source": [
        "# Quicksort"
      ]
    },
    {
      "cell_type": "code",
      "metadata": {
        "id": "nmgsTha8BVEW"
      },
      "source": [
        "def Quicksort(a, l, r):\n",
        "  # consider the left most as pivot element\n",
        "  current = l+1\n",
        "  # base case (as limiting criteria)\n",
        "  if r <= current:\n",
        "    return None\n",
        "  for i in range(l+1, r):\n",
        "    # compare pivot element and shift current's postion\n",
        "    if a[l] >= a[i]:\n",
        "      a[i], a[current] = a[current], a[i]\n",
        "      current += 1\n",
        "  # exchange pivot element and current-but-one element\n",
        "  a[l], a[current-1] = a[current-1], a[l]\n",
        "  # perform Quicksort before current element\n",
        "  Quicksort(a, l, current-1)\n",
        "  # perform Quicksort after current element\n",
        "  Quicksort(a, current, r) \n",
        "  return None\n"
      ],
      "execution_count": 49,
      "outputs": []
    },
    {
      "cell_type": "code",
      "metadata": {
        "colab": {
          "base_uri": "https://localhost:8080/"
        },
        "id": "1Nx21Sn0HCK-",
        "outputId": "d2de9637-a0f5-40da-81ce-36bfc2cbef64"
      },
      "source": [
        "a = [5,6,4,12,9,2,1,7,6,3]\n",
        "print('Before sorting...')\n",
        "print(a)\n",
        "Quicksort(a, 0, len(a))\n",
        "print('\\nAfter sorting...')\n",
        "print(a)"
      ],
      "execution_count": 54,
      "outputs": [
        {
          "output_type": "stream",
          "text": [
            "Before sorting...\n",
            "[5, 6, 4, 12, 9, 2, 1, 7, 6, 3]\n",
            "\n",
            "After sorting...\n",
            "[1, 2, 3, 4, 5, 6, 6, 7, 9, 12]\n"
          ],
          "name": "stdout"
        }
      ]
    },
    {
      "cell_type": "markdown",
      "metadata": {
        "id": "B9FI2AvHRAlk"
      },
      "source": [
        "### Thank you for your time!"
      ]
    }
  ]
}